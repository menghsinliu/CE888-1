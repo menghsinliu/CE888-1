{
  "cells": [
    {
      "cell_type": "markdown",
      "metadata": {
        "id": "view-in-github",
        "colab_type": "text"
      },
      "source": [
        "<a href=\"https://colab.research.google.com/github/menghsinliu/CE888-1/blob/master/Copy_of_rnn.ipynb\" target=\"_parent\"><img src=\"https://colab.research.google.com/assets/colab-badge.svg\" alt=\"Open In Colab\"/></a>"
      ]
    },
    {
      "cell_type": "markdown",
      "source": [
        "# Learning from Sequences: Timeseries and Text\n",
        "\n",
        "Created by Dr Ana Matran-Fernandez (amatra@essex.ac.uk) for CE888 (Data Science and Decision Making)\n",
        "\n",
        "This notebook accompanies lecture 8 and illustrates recurrent neural networks on an example of a timeseries (predicting tomorrow's temperature) and a classification problem on the IMDB text dataset."
      ],
      "metadata": {
        "id": "gS1IIAS-bcb-"
      }
    },
    {
      "cell_type": "markdown",
      "source": [
        "# Imports"
      ],
      "metadata": {
        "id": "0myiQp20cxRK"
      }
    },
    {
      "cell_type": "code",
      "execution_count": 42,
      "metadata": {
        "id": "1J0bYBQ7_a0L"
      },
      "outputs": [],
      "source": [
        "# imports\n",
        "import numpy as np\n",
        "import matplotlib.pyplot as plt\n",
        "import os\n",
        "import pandas as pd\n",
        "from sklearn.model_selection import train_test_split"
      ]
    },
    {
      "cell_type": "code",
      "execution_count": 43,
      "metadata": {
        "id": "U0NPDv7X_a0M"
      },
      "outputs": [],
      "source": [
        "# tensorflow imports\n",
        "from tensorflow import keras\n",
        "from keras import layers, models\n",
        "from keras.callbacks import EarlyStopping, ModelCheckpoint"
      ]
    },
    {
      "cell_type": "markdown",
      "source": [
        "# Timeseries"
      ],
      "metadata": {
        "id": "xaiw_VZjbtSH"
      }
    },
    {
      "cell_type": "code",
      "execution_count": 44,
      "metadata": {
        "colab": {
          "base_uri": "https://localhost:8080/",
          "height": 424
        },
        "id": "iA_R1Q-K_a0N",
        "outputId": "54537e80-9fb7-4c56-c13c-9b031dd8c6d1"
      },
      "outputs": [
        {
          "output_type": "execute_result",
          "data": {
            "text/html": [
              "\n",
              "  <div id=\"df-b0a915d0-bb72-4323-9e88-05ec35c88d9e\">\n",
              "    <div class=\"colab-df-container\">\n",
              "      <div>\n",
              "<style scoped>\n",
              "    .dataframe tbody tr th:only-of-type {\n",
              "        vertical-align: middle;\n",
              "    }\n",
              "\n",
              "    .dataframe tbody tr th {\n",
              "        vertical-align: top;\n",
              "    }\n",
              "\n",
              "    .dataframe thead th {\n",
              "        text-align: right;\n",
              "    }\n",
              "</style>\n",
              "<table border=\"1\" class=\"dataframe\">\n",
              "  <thead>\n",
              "    <tr style=\"text-align: right;\">\n",
              "      <th></th>\n",
              "      <th>date</th>\n",
              "      <th>radiation_avg</th>\n",
              "      <th>precip</th>\n",
              "      <th>wind_avg</th>\n",
              "      <th>wind_max</th>\n",
              "      <th>temp_avg</th>\n",
              "      <th>humidity_avg</th>\n",
              "    </tr>\n",
              "  </thead>\n",
              "  <tbody>\n",
              "    <tr>\n",
              "      <th>0</th>\n",
              "      <td>14/05/2014 00:00</td>\n",
              "      <td>159</td>\n",
              "      <td>0.0</td>\n",
              "      <td>1.4</td>\n",
              "      <td>3.3</td>\n",
              "      <td>14.27</td>\n",
              "      <td>64.95</td>\n",
              "    </tr>\n",
              "    <tr>\n",
              "      <th>1</th>\n",
              "      <td>15/05/2014 00:00</td>\n",
              "      <td>280</td>\n",
              "      <td>0.0</td>\n",
              "      <td>0.6</td>\n",
              "      <td>2.3</td>\n",
              "      <td>13.51</td>\n",
              "      <td>72.91</td>\n",
              "    </tr>\n",
              "    <tr>\n",
              "      <th>2</th>\n",
              "      <td>16/05/2014 00:00</td>\n",
              "      <td>186</td>\n",
              "      <td>3.4</td>\n",
              "      <td>0.8</td>\n",
              "      <td>2.7</td>\n",
              "      <td>15.65</td>\n",
              "      <td>74.69</td>\n",
              "    </tr>\n",
              "    <tr>\n",
              "      <th>3</th>\n",
              "      <td>17/05/2014 00:00</td>\n",
              "      <td>221</td>\n",
              "      <td>0.0</td>\n",
              "      <td>1.0</td>\n",
              "      <td>3.3</td>\n",
              "      <td>17.46</td>\n",
              "      <td>71.42</td>\n",
              "    </tr>\n",
              "    <tr>\n",
              "      <th>4</th>\n",
              "      <td>18/05/2014 00:00</td>\n",
              "      <td>255</td>\n",
              "      <td>0.0</td>\n",
              "      <td>2.1</td>\n",
              "      <td>5.5</td>\n",
              "      <td>16.85</td>\n",
              "      <td>74.45</td>\n",
              "    </tr>\n",
              "    <tr>\n",
              "      <th>...</th>\n",
              "      <td>...</td>\n",
              "      <td>...</td>\n",
              "      <td>...</td>\n",
              "      <td>...</td>\n",
              "      <td>...</td>\n",
              "      <td>...</td>\n",
              "      <td>...</td>\n",
              "    </tr>\n",
              "    <tr>\n",
              "      <th>2551</th>\n",
              "      <td>17/05/2021 00:00</td>\n",
              "      <td>196</td>\n",
              "      <td>1.4</td>\n",
              "      <td>2.2</td>\n",
              "      <td>5.5</td>\n",
              "      <td>10.51</td>\n",
              "      <td>99.86</td>\n",
              "    </tr>\n",
              "    <tr>\n",
              "      <th>2552</th>\n",
              "      <td>17/05/2021 00:00</td>\n",
              "      <td>173</td>\n",
              "      <td>2.8</td>\n",
              "      <td>1.8</td>\n",
              "      <td>5.5</td>\n",
              "      <td>10.80</td>\n",
              "      <td>99.86</td>\n",
              "    </tr>\n",
              "    <tr>\n",
              "      <th>2553</th>\n",
              "      <td>18/05/2021 00:00</td>\n",
              "      <td>311</td>\n",
              "      <td>0.0</td>\n",
              "      <td>1.4</td>\n",
              "      <td>5.0</td>\n",
              "      <td>10.29</td>\n",
              "      <td>92.94</td>\n",
              "    </tr>\n",
              "    <tr>\n",
              "      <th>2554</th>\n",
              "      <td>19/05/2021 00:00</td>\n",
              "      <td>232</td>\n",
              "      <td>6.6</td>\n",
              "      <td>1.8</td>\n",
              "      <td>5.5</td>\n",
              "      <td>11.39</td>\n",
              "      <td>90.32</td>\n",
              "    </tr>\n",
              "    <tr>\n",
              "      <th>2555</th>\n",
              "      <td>20/05/2021 00:00</td>\n",
              "      <td>44</td>\n",
              "      <td>0.0</td>\n",
              "      <td>0.5</td>\n",
              "      <td>2.7</td>\n",
              "      <td>6.35</td>\n",
              "      <td>99.86</td>\n",
              "    </tr>\n",
              "  </tbody>\n",
              "</table>\n",
              "<p>2556 rows × 7 columns</p>\n",
              "</div>\n",
              "      <button class=\"colab-df-convert\" onclick=\"convertToInteractive('df-b0a915d0-bb72-4323-9e88-05ec35c88d9e')\"\n",
              "              title=\"Convert this dataframe to an interactive table.\"\n",
              "              style=\"display:none;\">\n",
              "        \n",
              "  <svg xmlns=\"http://www.w3.org/2000/svg\" height=\"24px\"viewBox=\"0 0 24 24\"\n",
              "       width=\"24px\">\n",
              "    <path d=\"M0 0h24v24H0V0z\" fill=\"none\"/>\n",
              "    <path d=\"M18.56 5.44l.94 2.06.94-2.06 2.06-.94-2.06-.94-.94-2.06-.94 2.06-2.06.94zm-11 1L8.5 8.5l.94-2.06 2.06-.94-2.06-.94L8.5 2.5l-.94 2.06-2.06.94zm10 10l.94 2.06.94-2.06 2.06-.94-2.06-.94-.94-2.06-.94 2.06-2.06.94z\"/><path d=\"M17.41 7.96l-1.37-1.37c-.4-.4-.92-.59-1.43-.59-.52 0-1.04.2-1.43.59L10.3 9.45l-7.72 7.72c-.78.78-.78 2.05 0 2.83L4 21.41c.39.39.9.59 1.41.59.51 0 1.02-.2 1.41-.59l7.78-7.78 2.81-2.81c.8-.78.8-2.07 0-2.86zM5.41 20L4 18.59l7.72-7.72 1.47 1.35L5.41 20z\"/>\n",
              "  </svg>\n",
              "      </button>\n",
              "      \n",
              "  <style>\n",
              "    .colab-df-container {\n",
              "      display:flex;\n",
              "      flex-wrap:wrap;\n",
              "      gap: 12px;\n",
              "    }\n",
              "\n",
              "    .colab-df-convert {\n",
              "      background-color: #E8F0FE;\n",
              "      border: none;\n",
              "      border-radius: 50%;\n",
              "      cursor: pointer;\n",
              "      display: none;\n",
              "      fill: #1967D2;\n",
              "      height: 32px;\n",
              "      padding: 0 0 0 0;\n",
              "      width: 32px;\n",
              "    }\n",
              "\n",
              "    .colab-df-convert:hover {\n",
              "      background-color: #E2EBFA;\n",
              "      box-shadow: 0px 1px 2px rgba(60, 64, 67, 0.3), 0px 1px 3px 1px rgba(60, 64, 67, 0.15);\n",
              "      fill: #174EA6;\n",
              "    }\n",
              "\n",
              "    [theme=dark] .colab-df-convert {\n",
              "      background-color: #3B4455;\n",
              "      fill: #D2E3FC;\n",
              "    }\n",
              "\n",
              "    [theme=dark] .colab-df-convert:hover {\n",
              "      background-color: #434B5C;\n",
              "      box-shadow: 0px 1px 3px 1px rgba(0, 0, 0, 0.15);\n",
              "      filter: drop-shadow(0px 1px 2px rgba(0, 0, 0, 0.3));\n",
              "      fill: #FFFFFF;\n",
              "    }\n",
              "  </style>\n",
              "\n",
              "      <script>\n",
              "        const buttonEl =\n",
              "          document.querySelector('#df-b0a915d0-bb72-4323-9e88-05ec35c88d9e button.colab-df-convert');\n",
              "        buttonEl.style.display =\n",
              "          google.colab.kernel.accessAllowed ? 'block' : 'none';\n",
              "\n",
              "        async function convertToInteractive(key) {\n",
              "          const element = document.querySelector('#df-b0a915d0-bb72-4323-9e88-05ec35c88d9e');\n",
              "          const dataTable =\n",
              "            await google.colab.kernel.invokeFunction('convertToInteractive',\n",
              "                                                     [key], {});\n",
              "          if (!dataTable) return;\n",
              "\n",
              "          const docLinkHtml = 'Like what you see? Visit the ' +\n",
              "            '<a target=\"_blank\" href=https://colab.research.google.com/notebooks/data_table.ipynb>data table notebook</a>'\n",
              "            + ' to learn more about interactive tables.';\n",
              "          element.innerHTML = '';\n",
              "          dataTable['output_type'] = 'display_data';\n",
              "          await google.colab.output.renderOutput(dataTable, element);\n",
              "          const docLink = document.createElement('div');\n",
              "          docLink.innerHTML = docLinkHtml;\n",
              "          element.appendChild(docLink);\n",
              "        }\n",
              "      </script>\n",
              "    </div>\n",
              "  </div>\n",
              "  "
            ],
            "text/plain": [
              "                  date  radiation_avg  precip  wind_avg  wind_max  temp_avg  \\\n",
              "0     14/05/2014 00:00            159     0.0       1.4       3.3     14.27   \n",
              "1     15/05/2014 00:00            280     0.0       0.6       2.3     13.51   \n",
              "2     16/05/2014 00:00            186     3.4       0.8       2.7     15.65   \n",
              "3     17/05/2014 00:00            221     0.0       1.0       3.3     17.46   \n",
              "4     18/05/2014 00:00            255     0.0       2.1       5.5     16.85   \n",
              "...                ...            ...     ...       ...       ...       ...   \n",
              "2551  17/05/2021 00:00            196     1.4       2.2       5.5     10.51   \n",
              "2552  17/05/2021 00:00            173     2.8       1.8       5.5     10.80   \n",
              "2553  18/05/2021 00:00            311     0.0       1.4       5.0     10.29   \n",
              "2554  19/05/2021 00:00            232     6.6       1.8       5.5     11.39   \n",
              "2555  20/05/2021 00:00             44     0.0       0.5       2.7      6.35   \n",
              "\n",
              "      humidity_avg  \n",
              "0            64.95  \n",
              "1            72.91  \n",
              "2            74.69  \n",
              "3            71.42  \n",
              "4            74.45  \n",
              "...            ...  \n",
              "2551         99.86  \n",
              "2552         99.86  \n",
              "2553         92.94  \n",
              "2554         90.32  \n",
              "2555         99.86  \n",
              "\n",
              "[2556 rows x 7 columns]"
            ]
          },
          "metadata": {},
          "execution_count": 44
        }
      ],
      "source": [
        "df = pd.read_csv('https://raw.githubusercontent.com/albanda/CE888/master/lab8/weather.csv')\n",
        "df.drop(['temp_max', 'temp_min'], axis=1, inplace=True)\n",
        "df"
      ]
    },
    {
      "cell_type": "code",
      "execution_count": 45,
      "metadata": {
        "colab": {
          "base_uri": "https://localhost:8080/",
          "height": 279
        },
        "id": "nzsytNAh_a0N",
        "outputId": "6f786c4e-2716-4975-d6f4-04a5a713a18f"
      },
      "outputs": [
        {
          "output_type": "display_data",
          "data": {
            "image/png": "[encoded data removed]",
            "text/plain": [
              "<Figure size 432x288 with 1 Axes>"
            ]
          },
          "metadata": {
            "needs_background": "light"
          }
        }
      ],
      "source": [
        "plt.plot(range(len(df)), df['temp_avg'])\n",
        "plt.xlabel('Temporal range')\n",
        "plt.ylabel('Average temperature (C) (7 years)')\n",
        "plt.savefig('temperature_over_time.pdf', bbox_inches='tight')"
      ]
    },
    {
      "cell_type": "code",
      "execution_count": 46,
      "metadata": {
        "colab": {
          "base_uri": "https://localhost:8080/",
          "height": 279
        },
        "id": "ysbM2n99_a0N",
        "outputId": "c88af44d-e1be-4f27-d263-a7c7746a3b9e"
      },
      "outputs": [
        {
          "output_type": "display_data",
          "data": {
            "image/png": "[encoded data removed]",
            "text/plain": [
              "<Figure size 432x288 with 1 Axes>"
            ]
          },
          "metadata": {
            "needs_background": "light"
          }
        }
      ],
      "source": [
        "# Look at the first 2 years\n",
        "length = 2*365\n",
        "plt.plot(range(length), df['temp_avg'][:length])\n",
        "plt.xlabel('Temporal range')\n",
        "plt.ylabel('Average temperature (C) (2 years)')\n",
        "plt.savefig('temperature_over_time_2y.pdf', bbox_inches='tight')"
      ]
    },
    {
      "cell_type": "markdown",
      "metadata": {
        "id": "ikyqi2m7_a0O"
      },
      "source": [
        "We have clear periodicity every year. In the previous plot we saw 7 cycles (7 years). Here we see 2.\n",
        "\n",
        "Always look for periodicity in your timeseries. There will always be daily and yearly cycles. Check these patterns.\n",
        "\n",
        "Another issue with timeseries is dividing the dataset into train/validation/test sets. We definitely cannot shuffle the data, and we need to be very careful with data leakage (using data from the future)."
      ]
    },
    {
      "cell_type": "markdown",
      "metadata": {
        "id": "1fxuW2ne_a0P"
      },
      "source": [
        "## Data prep\n",
        "\n",
        "We'll try to predict the average temperature of tomorrow based on data from the past.\n",
        "\n",
        "To avoid data leakage, we're going to use a simple approach: use the first 50% of data for training, the next 30% for validation, and the final 20% for testing.\n"
      ]
    },
    {
      "cell_type": "code",
      "execution_count": 47,
      "metadata": {
        "colab": {
          "base_uri": "https://localhost:8080/"
        },
        "id": "vofGsYen_a0P",
        "outputId": "96dbe9b6-69b5-4d82-9ef0-ff188a40c621"
      },
      "outputs": [
        {
          "output_type": "stream",
          "name": "stdout",
          "text": [
            "Samples for training: 1278; validation: 766; test: 512\n"
          ]
        }
      ],
      "source": [
        "n_tr, n_val = int(0.5*len(df)), int(0.3*len(df))\n",
        "n_te = len(df) - n_tr - n_val\n",
        "print('Samples for training: %d; validation: %d; test: %d' % (n_tr, n_val, n_te))"
      ]
    },
    {
      "cell_type": "code",
      "execution_count": 48,
      "metadata": {
        "colab": {
          "base_uri": "https://localhost:8080/"
        },
        "id": "lsMDT2Jq_a0P",
        "outputId": "ffd0c3a9-ae19-4933-e97a-036873164448"
      },
      "outputs": [
        {
          "output_type": "stream",
          "name": "stdout",
          "text": [
            "(2556, 6)\n"
          ]
        }
      ],
      "source": [
        "# Get the data from the dataframe (dropping date column)\n",
        "data = df.iloc[:, 1:].values\n",
        "print(data.shape)\n",
        "assert data.shape[0] == len(df)\n",
        "assert data.shape[1] == len(df.columns)-1, \"Are you sure you're dropping the date?\"\n",
        "# We need to normalise our time series. Calculate mean and std from TRAINING DATA ONLY. \n",
        "# We'll use it on the validation and test sets.\n",
        "mean_tr = data[:n_tr, :].mean(axis=0)\n",
        "std_tr = data[:n_tr, :].std(axis=0)\n",
        "data = (data - mean_tr) / std_tr\n",
        "\n",
        "\n",
        "y = df['temp_avg'].values.reshape(-1, 1)\n",
        "\n",
        "# index of the column that contains the avg_temp\n",
        "y_idx = 4"
      ]
    },
    {
      "cell_type": "code",
      "source": [
        "data[:20, y_idx] * std_tr[y_idx] + mean_tr[y_idx]"
      ],
      "metadata": {
        "colab": {
          "base_uri": "https://localhost:8080/"
        },
        "id": "1VJAcdfICLi1",
        "outputId": "e11796cd-4e8f-4689-c38a-2e6c516a15ff"
      },
      "execution_count": 49,
      "outputs": [
        {
          "output_type": "execute_result",
          "data": {
            "text/plain": [
              "array([14.27, 13.51, 15.65, 17.46, 16.85, 18.26, 17.35, 15.55, 14.52,\n",
              "       13.93, 11.48, 13.63, 12.81, 12.4 , 13.67, 14.15, 13.22, 12.21,\n",
              "       15.53, 14.52])"
            ]
          },
          "metadata": {},
          "execution_count": 49
        }
      ]
    },
    {
      "cell_type": "code",
      "source": [
        "y[5:25]"
      ],
      "metadata": {
        "colab": {
          "base_uri": "https://localhost:8080/"
        },
        "id": "xN-YJyEeCUv9",
        "outputId": "b0576e48-6c55-4336-9723-fe02d54da6b1"
      },
      "execution_count": 50,
      "outputs": [
        {
          "output_type": "execute_result",
          "data": {
            "text/plain": [
              "array([[18.26],\n",
              "       [17.35],\n",
              "       [15.55],\n",
              "       [14.52],\n",
              "       [13.93],\n",
              "       [11.48],\n",
              "       [13.63],\n",
              "       [12.81],\n",
              "       [12.4 ],\n",
              "       [13.67],\n",
              "       [14.15],\n",
              "       [13.22],\n",
              "       [12.21],\n",
              "       [15.53],\n",
              "       [14.52],\n",
              "       [15.35],\n",
              "       [12.29],\n",
              "       [13.88],\n",
              "       [15.13],\n",
              "       [17.29]])"
            ]
          },
          "metadata": {},
          "execution_count": 50
        }
      ]
    },
    {
      "cell_type": "code",
      "execution_count": 51,
      "metadata": {
        "id": "K_JGeiAs_a0Q"
      },
      "outputs": [],
      "source": [
        "# We'll use a Dataset from keras to pass our data\n",
        "sampling_rate = 1  # we keep all data points\n",
        "sequence_length = 14  # 2 weeks to predict tomorrow's temperature\n",
        "delay = sampling_rate * sequence_length  # the target is the day after the end of the sequence\n",
        "batch_size = 16"
      ]
    },
    {
      "cell_type": "code",
      "execution_count": 52,
      "metadata": {
        "colab": {
          "base_uri": "https://localhost:8080/"
        },
        "id": "cRDGWNYl_a0Q",
        "outputId": "a2941994-f24a-42f7-f012-b03c2ba22c0e"
      },
      "outputs": [
        {
          "output_type": "stream",
          "name": "stdout",
          "text": [
            "X shape: (16, 14, 6)\n",
            "target shape: (16, 1)\n"
          ]
        }
      ],
      "source": [
        "train_dataset = keras.utils.timeseries_dataset_from_array(\n",
        "    data[:-delay],\n",
        "    targets=y[delay:],\n",
        "    sampling_rate=sampling_rate, sequence_length=sequence_length,\n",
        "    batch_size=batch_size,\n",
        "    start_index=0, end_index=n_tr  # first 50% for training\n",
        "    )\n",
        "\n",
        "val_dataset = keras.utils.timeseries_dataset_from_array(\n",
        "    data[:-delay],\n",
        "    targets=y[delay:],\n",
        "    sampling_rate=sampling_rate, sequence_length=sequence_length,\n",
        "    batch_size=batch_size,\n",
        "    start_index=n_tr, end_index=n_tr+n_val  # 50%-80% for validation\n",
        "    )\n",
        "\n",
        "test_dataset = keras.utils.timeseries_dataset_from_array(\n",
        "    data[:-delay],\n",
        "    targets=y[delay:],\n",
        "    sampling_rate=sampling_rate, sequence_length=sequence_length,\n",
        "    batch_size=batch_size,\n",
        "    start_index=n_tr+n_val  # last 20% for test\n",
        "    )\n",
        "\n",
        "for X, target in train_dataset:\n",
        "    print(\"X shape:\", X.shape)\n",
        "    print(\"target shape:\", target.shape)\n",
        "    #print(X[:, :, y_idx] * std_tr[y_idx] + mean_tr[y_idx])\n",
        "    #print(target)\n",
        "    break  # so we only print once"
      ]
    },
    {
      "cell_type": "code",
      "source": [
        "# Function to plot history with neural networks\n",
        "def plot_hist_regression(hist, y):\n",
        "  n_ = len(hist.history['mae'])\n",
        "  plt.plot(range(1, n_+1), np.asarray(hist.history['mae']), 'bo', label='MAE on training set')\n",
        "  plt.plot(range(1, n_+1), np.asarray(hist.history['val_mae']), 'b', label='MAE on validation set')\n",
        "  plt.legend()\n",
        "  plt.xlabel(\"Epoch\") \n",
        "  plt.ylabel(\"MAE (degrees)\")\n",
        "  plt.axhline(y=y)\n",
        "  plt.show()\n"
      ],
      "metadata": {
        "id": "u_v2rAW_W4kQ"
      },
      "execution_count": 53,
      "outputs": []
    },
    {
      "cell_type": "markdown",
      "metadata": {
        "id": "WlhjIvZR_a0Q"
      },
      "source": [
        "## Establishing a baseline\n"
      ]
    },
    {
      "cell_type": "markdown",
      "source": [
        "### Common sense, no ML baseline\n",
        "\n",
        "- Sanity check\n",
        "- To establish whether ML methods are actually any good\n",
        "\n",
        "Tomorrow's temperature is likely to be close to today's: let's predict that the temperature 24 hours from now will be equal to the temperature right now.\n",
        "\n",
        "We'll use the MAE as metric"
      ],
      "metadata": {
        "id": "rloJamyvWPWj"
      }
    },
    {
      "cell_type": "code",
      "execution_count": 54,
      "metadata": {
        "colab": {
          "base_uri": "https://localhost:8080/"
        },
        "id": "MUY5acIf_a0Q",
        "outputId": "699d3775-eb8b-4061-d9e3-498d39357ada"
      },
      "outputs": [
        {
          "output_type": "stream",
          "name": "stdout",
          "text": [
            "MAE on train set = 2.56 (degrees Celsius)\n",
            "MAE on validation set = 2.69 (degrees Celsius)\n",
            "MAE on test set = 2.85 (degrees Celsius)\n"
          ]
        }
      ],
      "source": [
        "def naive_method(dataset, mean, std):\n",
        "    error = 0\n",
        "    samples = 0\n",
        "    count = 0\n",
        "    for X, target in dataset:\n",
        "        pred = X[:, -1, y_idx] * std + mean  # predict last available temperature and un-standardise\n",
        "        #print(X.shape, target.shape, pred.shape)  # [batch_size, sequence_length, n_feats]\n",
        "        #print(X[:, -1, y_idx] * std + mean, target)\n",
        "        error += np.sum(np.abs(pred - target))\n",
        "        samples += X.shape[0]  # batch_size\n",
        "        count += 1\n",
        "    return error / samples / batch_size # average\n",
        "\n",
        "\n",
        "print('MAE on train set = %.2f (degrees Celsius)' % naive_method(train_dataset, mean_tr[y_idx], std_tr[y_idx]))\n",
        "print('MAE on validation set = %.2f (degrees Celsius)' % naive_method(val_dataset, mean_tr[y_idx], std_tr[y_idx]))\n",
        "print('MAE on test set = %.2f (degrees Celsius)' % naive_method(test_dataset, mean_tr[y_idx], std_tr[y_idx]))\n",
        "# Save MAE on validation for later\n",
        "baseline = naive_method(val_dataset, mean_tr[y_idx], std_tr[y_idx])"
      ]
    },
    {
      "cell_type": "markdown",
      "source": [
        "This baseline achieves a validation MAE of 2.69 degrees and a test MAE of 2.85 degrees. So if we assume that tomorrow's temperature will be the same as today's, we'll be off by less than 3 degrees on average.\n",
        "\n",
        "Not too bad, but surely we can do better!"
      ],
      "metadata": {
        "id": "znycUtxiJmAF"
      }
    },
    {
      "cell_type": "markdown",
      "metadata": {
        "id": "7c-duA1Z_a0R"
      },
      "source": [
        "### Simple ML baseline\n",
        "\n",
        "\n"
      ]
    },
    {
      "cell_type": "code",
      "source": [
        "# To get some practice with neural networks, we'll try a 1-layer NN with nothing fancy.\n",
        "\n",
        "model_dense = models.Sequential()\n",
        "model_dense.add(layers.Flatten(input_shape=(sequence_length, len(df.columns)-1)))  # we need to specify the input shape or we won't be able to see the summary\n",
        "model_dense.add(layers.Dense(10, activation='relu'))\n",
        "model_dense.add(layers.Dense(1))\n",
        "\n",
        "model_dense.summary()"
      ],
      "metadata": {
        "colab": {
          "base_uri": "https://localhost:8080/"
        },
        "id": "fWGqpICHJlRe",
        "outputId": "73ef56e3-0e5e-4725-a606-e6d91e01ce62"
      },
      "execution_count": 14,
      "outputs": [
        {
          "output_type": "stream",
          "name": "stdout",
          "text": [
            "Model: \"sequential\"\n",
            "_________________________________________________________________\n",
            " Layer (type)                Output Shape              Param #   \n",
            "=================================================================\n",
            " flatten (Flatten)           (None, 84)                0         \n",
            "                                                                 \n",
            " dense (Dense)               (None, 10)                850       \n",
            "                                                                 \n",
            " dense_1 (Dense)             (None, 1)                 11        \n",
            "                                                                 \n",
            "=================================================================\n",
            "Total params: 861\n",
            "Trainable params: 861\n",
            "Non-trainable params: 0\n",
            "_________________________________________________________________\n"
          ]
        }
      ]
    },
    {
      "cell_type": "code",
      "source": [
        "n_epochs = 20\n",
        "\n",
        "model_dense.compile(optimizer='rmsprop', loss='mse', metrics=['mae'])\n",
        "history_dense = model_dense.fit(train_dataset, epochs=n_epochs, validation_data=val_dataset)"
      ],
      "metadata": {
        "colab": {
          "base_uri": "https://localhost:8080/"
        },
        "id": "p0Hz1rX8LMfT",
        "outputId": "46fb88ef-267d-4820-c1fb-a09bc4f1fdd3"
      },
      "execution_count": 19,
      "outputs": [
        {
          "output_type": "stream",
          "name": "stdout",
          "text": [
            "Epoch 1/20\n",
            "80/80 [==============================] - 4s 10ms/step - loss: 168.4576 - mae: 11.9113 - val_loss: 154.0942 - val_mae: 11.3336\n",
            "Epoch 2/20\n",
            "80/80 [==============================] - 1s 6ms/step - loss: 145.2354 - mae: 11.0600 - val_loss: 129.9911 - val_mae: 10.3887\n",
            "Epoch 3/20\n",
            "80/80 [==============================] - 1s 7ms/step - loss: 121.0238 - mae: 10.0947 - val_loss: 105.9347 - val_mae: 9.3822\n",
            "Epoch 4/20\n",
            "80/80 [==============================] - 1s 7ms/step - loss: 96.0130 - mae: 8.9880 - val_loss: 82.4721 - val_mae: 8.2889\n",
            "Epoch 5/20\n",
            "80/80 [==============================] - 1s 7ms/step - loss: 72.0225 - mae: 7.6966 - val_loss: 62.0341 - val_mae: 7.0547\n",
            "Epoch 6/20\n",
            "80/80 [==============================] - 1s 7ms/step - loss: 53.9794 - mae: 6.4555 - val_loss: 50.0863 - val_mae: 6.1320\n",
            "Epoch 7/20\n",
            "80/80 [==============================] - 1s 7ms/step - loss: 45.7273 - mae: 5.7541 - val_loss: 45.8424 - val_mae: 5.8232\n",
            "Epoch 8/20\n",
            "80/80 [==============================] - 1s 7ms/step - loss: 42.6339 - mae: 5.5003 - val_loss: 43.2484 - val_mae: 5.6243\n",
            "Epoch 9/20\n",
            "80/80 [==============================] - 1s 6ms/step - loss: 39.8867 - mae: 5.2806 - val_loss: 39.7763 - val_mae: 5.3457\n",
            "Epoch 10/20\n",
            "80/80 [==============================] - 1s 7ms/step - loss: 36.7312 - mae: 5.0307 - val_loss: 35.9554 - val_mae: 5.0172\n",
            "Epoch 11/20\n",
            "80/80 [==============================] - 1s 7ms/step - loss: 33.6241 - mae: 4.7836 - val_loss: 32.2747 - val_mae: 4.6893\n",
            "Epoch 12/20\n",
            "80/80 [==============================] - 1s 7ms/step - loss: 30.7150 - mae: 4.5456 - val_loss: 29.2018 - val_mae: 4.3995\n",
            "Epoch 13/20\n",
            "80/80 [==============================] - 1s 7ms/step - loss: 28.2735 - mae: 4.3524 - val_loss: 26.8529 - val_mae: 4.1633\n",
            "Epoch 14/20\n",
            "80/80 [==============================] - 1s 7ms/step - loss: 26.2516 - mae: 4.1951 - val_loss: 25.0861 - val_mae: 3.9938\n",
            "Epoch 15/20\n",
            "80/80 [==============================] - 1s 7ms/step - loss: 24.6075 - mae: 4.0678 - val_loss: 23.7281 - val_mae: 3.8663\n",
            "Epoch 16/20\n",
            "80/80 [==============================] - 1s 7ms/step - loss: 23.2132 - mae: 3.9570 - val_loss: 22.6115 - val_mae: 3.7647\n",
            "Epoch 17/20\n",
            "80/80 [==============================] - 1s 7ms/step - loss: 21.9524 - mae: 3.8503 - val_loss: 21.6350 - val_mae: 3.6814\n",
            "Epoch 18/20\n",
            "80/80 [==============================] - 1s 7ms/step - loss: 20.7930 - mae: 3.7454 - val_loss: 20.7123 - val_mae: 3.6055\n",
            "Epoch 19/20\n",
            "80/80 [==============================] - 1s 7ms/step - loss: 19.7028 - mae: 3.6421 - val_loss: 19.8266 - val_mae: 3.5302\n",
            "Epoch 20/20\n",
            "80/80 [==============================] - 1s 7ms/step - loss: 18.6747 - mae: 3.5407 - val_loss: 19.0040 - val_mae: 3.4629\n"
          ]
        }
      ]
    },
    {
      "cell_type": "code",
      "source": [
        "# Plot MAE cures for validation and training\n",
        "plot_hist_regression(history_dense, baseline)"
      ],
      "metadata": {
        "colab": {
          "base_uri": "https://localhost:8080/",
          "height": 279
        },
        "id": "aBRYn-AKMCi4",
        "outputId": "b5ced6d2-9776-4edb-8e85-73bc7b2686e8"
      },
      "execution_count": 21,
      "outputs": [
        {
          "output_type": "display_data",
          "data": {
            "image/png": "[encoded data removed]",
            "text/plain": [
              "<Figure size 432x288 with 1 Axes>"
            ]
          },
          "metadata": {
            "needs_background": "light"
          }
        }
      ]
    },
    {
      "cell_type": "markdown",
      "source": [
        "Validation loss is worse than what we had with our common-sense baseline, and we're already overfitting (MAE on training set is lower than on validation set). It turns out our previous baseline is not as easy to outperform as we thought!\n",
        "\n",
        "Remember our 'hypothesis space'? Using 2 Dense layers doesn't seem to be very useful in this case. We need other types of layers for this problem."
      ],
      "metadata": {
        "id": "1EJywOA5NJa9"
      }
    },
    {
      "cell_type": "code",
      "source": [
        "# We know that CNNs take advantage of neighbouring values, so why don't we try that?\n",
        "\n",
        "# In addition to the Conv2D layers we saw last week, there are Conv1D and Conv3D layers. \n",
        "# Conv1D layers rely on 1D windows that slide across an input sequence (imagine a 1D image)\n",
        "\n",
        "model_cnn = models.Sequential()\n",
        "model_cnn.add(layers.Conv1D(8, 7, activation='relu', input_shape=(sequence_length, len(df.columns)-1)))\n",
        "model_cnn.add(layers.MaxPooling1D(2))\n",
        "model_cnn.add(layers.Conv1D(8, 3, activation='relu'))\n",
        "model_cnn.add(layers.MaxPooling1D(2))\n",
        "model_cnn.add(layers.GlobalAveragePooling1D())\n",
        "model_cnn.add(layers.Dense(1))\n",
        "\n",
        "model_cnn.summary()"
      ],
      "metadata": {
        "colab": {
          "base_uri": "https://localhost:8080/"
        },
        "id": "k6PADykQPIjq",
        "outputId": "a59c5381-a2cd-4f62-b01e-05557e60ea24"
      },
      "execution_count": 22,
      "outputs": [
        {
          "output_type": "stream",
          "name": "stdout",
          "text": [
            "Model: \"sequential_2\"\n",
            "_________________________________________________________________\n",
            " Layer (type)                Output Shape              Param #   \n",
            "=================================================================\n",
            " conv1d (Conv1D)             (None, 8, 8)              344       \n",
            "                                                                 \n",
            " max_pooling1d (MaxPooling1D  (None, 4, 8)             0         \n",
            " )                                                               \n",
            "                                                                 \n",
            " conv1d_1 (Conv1D)           (None, 2, 8)              200       \n",
            "                                                                 \n",
            " max_pooling1d_1 (MaxPooling  (None, 1, 8)             0         \n",
            " 1D)                                                             \n",
            "                                                                 \n",
            " global_average_pooling1d (G  (None, 8)                0         \n",
            " lobalAveragePooling1D)                                          \n",
            "                                                                 \n",
            " dense_4 (Dense)             (None, 1)                 9         \n",
            "                                                                 \n",
            "=================================================================\n",
            "Total params: 553\n",
            "Trainable params: 553\n",
            "Non-trainable params: 0\n",
            "_________________________________________________________________\n"
          ]
        }
      ]
    },
    {
      "cell_type": "code",
      "source": [
        "model_cnn.compile(optimizer='rmsprop', loss='mse', metrics=['mae'])\n",
        "history_cnn = model_cnn.fit(train_dataset, epochs=n_epochs,\n",
        "                            validation_data=val_dataset)"
      ],
      "metadata": {
        "colab": {
          "base_uri": "https://localhost:8080/"
        },
        "id": "PSGRJSulQs22",
        "outputId": "d7171dfe-bf75-4162-96b3-df048e50f774"
      },
      "execution_count": 23,
      "outputs": [
        {
          "output_type": "stream",
          "name": "stdout",
          "text": [
            "Epoch 1/20\n",
            "80/80 [==============================] - 9s 10ms/step - loss: 112.9509 - mae: 9.2490 - val_loss: 90.7468 - val_mae: 7.9570\n",
            "Epoch 2/20\n",
            "80/80 [==============================] - 1s 8ms/step - loss: 52.2145 - mae: 6.0766 - val_loss: 37.7483 - val_mae: 4.8277\n",
            "Epoch 3/20\n",
            "80/80 [==============================] - 1s 8ms/step - loss: 21.5184 - mae: 3.7345 - val_loss: 26.5191 - val_mae: 3.5994\n",
            "Epoch 4/20\n",
            "80/80 [==============================] - 1s 8ms/step - loss: 18.2716 - mae: 3.3515 - val_loss: 25.1817 - val_mae: 3.4150\n",
            "Epoch 5/20\n",
            "80/80 [==============================] - 1s 8ms/step - loss: 16.3954 - mae: 3.1840 - val_loss: 23.9622 - val_mae: 3.3017\n",
            "Epoch 6/20\n",
            "80/80 [==============================] - 1s 8ms/step - loss: 14.9298 - mae: 3.0518 - val_loss: 22.7491 - val_mae: 3.2141\n",
            "Epoch 7/20\n",
            "80/80 [==============================] - 1s 8ms/step - loss: 13.7637 - mae: 2.9398 - val_loss: 21.5649 - val_mae: 3.1424\n",
            "Epoch 8/20\n",
            "80/80 [==============================] - 1s 8ms/step - loss: 12.8453 - mae: 2.8476 - val_loss: 20.5086 - val_mae: 3.0879\n",
            "Epoch 9/20\n",
            "80/80 [==============================] - 1s 8ms/step - loss: 12.1194 - mae: 2.7711 - val_loss: 19.5922 - val_mae: 3.0415\n",
            "Epoch 10/20\n",
            "80/80 [==============================] - 1s 8ms/step - loss: 11.5499 - mae: 2.7104 - val_loss: 18.7259 - val_mae: 2.9999\n",
            "Epoch 11/20\n",
            "80/80 [==============================] - 1s 8ms/step - loss: 11.0969 - mae: 2.6638 - val_loss: 17.9922 - val_mae: 2.9632\n",
            "Epoch 12/20\n",
            "80/80 [==============================] - 1s 8ms/step - loss: 10.7020 - mae: 2.6206 - val_loss: 17.3006 - val_mae: 2.9262\n",
            "Epoch 13/20\n",
            "80/80 [==============================] - 1s 8ms/step - loss: 10.3530 - mae: 2.5803 - val_loss: 16.6406 - val_mae: 2.8940\n",
            "Epoch 14/20\n",
            "80/80 [==============================] - 1s 8ms/step - loss: 10.0484 - mae: 2.5439 - val_loss: 16.1281 - val_mae: 2.8668\n",
            "Epoch 15/20\n",
            "80/80 [==============================] - 1s 8ms/step - loss: 9.7833 - mae: 2.5108 - val_loss: 15.6892 - val_mae: 2.8426\n",
            "Epoch 16/20\n",
            "80/80 [==============================] - 1s 8ms/step - loss: 9.5463 - mae: 2.4809 - val_loss: 15.2741 - val_mae: 2.8195\n",
            "Epoch 17/20\n",
            "80/80 [==============================] - 1s 8ms/step - loss: 9.3331 - mae: 2.4539 - val_loss: 14.8803 - val_mae: 2.7979\n",
            "Epoch 18/20\n",
            "80/80 [==============================] - 1s 8ms/step - loss: 9.1444 - mae: 2.4294 - val_loss: 14.5501 - val_mae: 2.7791\n",
            "Epoch 19/20\n",
            "80/80 [==============================] - 1s 8ms/step - loss: 8.9669 - mae: 2.4065 - val_loss: 14.2464 - val_mae: 2.7599\n",
            "Epoch 20/20\n",
            "80/80 [==============================] - 1s 8ms/step - loss: 8.7972 - mae: 2.3847 - val_loss: 13.9277 - val_mae: 2.7421\n"
          ]
        }
      ]
    },
    {
      "cell_type": "code",
      "source": [
        "# Plot MAE cures for validation and training\n",
        "plot_hist_regression(history_cnn, baseline)"
      ],
      "metadata": {
        "colab": {
          "base_uri": "https://localhost:8080/",
          "height": 279
        },
        "id": "6bB6lzLYSG-u",
        "outputId": "a1e1efdf-fad3-4df3-8eb8-cc3d440c9d2d"
      },
      "execution_count": 24,
      "outputs": [
        {
          "output_type": "display_data",
          "data": {
            "image/png": "[encoded data removed]",
            "text/plain": [
              "<Figure size 432x288 with 1 Axes>"
            ]
          },
          "metadata": {
            "needs_background": "light"
          }
        }
      ]
    },
    {
      "cell_type": "markdown",
      "source": [
        "This model isn't any better, with a validation MAE of 2.77 degrees (also worse than the 'common-sense approach' that we tried at first), and we're overfitting a bit too.\n",
        "\n",
        "Why?\n",
        "\n",
        "In timeseries, order matters a lot: the recent past is more informative than data from 5 days ago, and convolutional layers don't take advantage of this fact -- max pooling and global average pooling layers actually destroy this order information."
      ],
      "metadata": {
        "id": "Kc2iMPSHViL1"
      }
    },
    {
      "cell_type": "markdown",
      "metadata": {
        "id": "3ozUAZX__a0R"
      },
      "source": [
        "## Long Short Term Memory (LSTM) Neural Networks\n",
        "\n",
        "\n"
      ]
    },
    {
      "cell_type": "code",
      "execution_count": 55,
      "metadata": {
        "id": "2dWfiaUw_a0R",
        "colab": {
          "base_uri": "https://localhost:8080/"
        },
        "outputId": "bb6e4758-9a7b-4fae-ad89-742072d4efda"
      },
      "outputs": [
        {
          "output_type": "stream",
          "name": "stdout",
          "text": [
            "Model: \"sequential_11\"\n",
            "_________________________________________________________________\n",
            " Layer (type)                Output Shape              Param #   \n",
            "=================================================================\n",
            " lstm_10 (LSTM)              (None, 20)                2160      \n",
            "                                                                 \n",
            " dense_17 (Dense)            (None, 1)                 21        \n",
            "                                                                 \n",
            "=================================================================\n",
            "Total params: 2,181\n",
            "Trainable params: 2,181\n",
            "Non-trainable params: 0\n",
            "_________________________________________________________________\n"
          ]
        }
      ],
      "source": [
        "# 1-layer LSTM\n",
        "\n",
        "model_lstm1 = models.Sequential()\n",
        "model_lstm1.add(layers.LSTM(20, input_shape=(sequence_length, len(df.columns)-1)))\n",
        "model_lstm1.add(layers.Dense(1))\n",
        "\n",
        "model_lstm1.summary()"
      ]
    },
    {
      "cell_type": "code",
      "source": [
        "n_epochs = 20"
      ],
      "metadata": {
        "id": "DMst2Mp0R0Xi"
      },
      "execution_count": 26,
      "outputs": []
    },
    {
      "cell_type": "code",
      "source": [
        "model_lstm1.compile(optimizer='rmsprop', loss='mse', metrics=['mae'])\n",
        "history_lstm1 = model_lstm1.fit(train_dataset, epochs=n_epochs,\n",
        "                            validation_data=val_dataset)"
      ],
      "metadata": {
        "colab": {
          "base_uri": "https://localhost:8080/"
        },
        "id": "Pff2tZQHXb-z",
        "outputId": "82d2dfe3-5e05-40d5-be82-0fdb0f0807de"
      },
      "execution_count": 27,
      "outputs": [
        {
          "output_type": "stream",
          "name": "stdout",
          "text": [
            "Epoch 1/20\n",
            "80/80 [==============================] - 3s 13ms/step - loss: 133.1460 - mae: 10.4461 - val_loss: 108.8654 - val_mae: 9.3583\n",
            "Epoch 2/20\n",
            "80/80 [==============================] - 1s 9ms/step - loss: 88.1048 - mae: 8.2658 - val_loss: 64.8812 - val_mae: 6.5865\n",
            "Epoch 3/20\n",
            "80/80 [==============================] - 1s 9ms/step - loss: 54.9749 - mae: 6.1364 - val_loss: 46.8314 - val_mae: 5.4221\n",
            "Epoch 4/20\n",
            "80/80 [==============================] - 1s 9ms/step - loss: 40.8582 - mae: 5.2137 - val_loss: 36.7499 - val_mae: 4.7922\n",
            "Epoch 5/20\n",
            "80/80 [==============================] - 1s 9ms/step - loss: 31.8333 - mae: 4.5680 - val_loss: 29.7674 - val_mae: 4.3316\n",
            "Epoch 6/20\n",
            "80/80 [==============================] - 1s 9ms/step - loss: 25.5471 - mae: 4.0889 - val_loss: 24.7435 - val_mae: 3.9738\n",
            "Epoch 7/20\n",
            "80/80 [==============================] - 1s 9ms/step - loss: 20.8905 - mae: 3.6991 - val_loss: 20.9609 - val_mae: 3.6653\n",
            "Epoch 8/20\n",
            "80/80 [==============================] - 1s 9ms/step - loss: 17.4583 - mae: 3.3831 - val_loss: 18.0657 - val_mae: 3.4076\n",
            "Epoch 9/20\n",
            "80/80 [==============================] - 1s 8ms/step - loss: 14.8834 - mae: 3.1234 - val_loss: 15.7216 - val_mae: 3.1730\n",
            "Epoch 10/20\n",
            "80/80 [==============================] - 1s 9ms/step - loss: 12.8305 - mae: 2.8888 - val_loss: 13.8707 - val_mae: 2.9788\n",
            "Epoch 11/20\n",
            "80/80 [==============================] - 1s 9ms/step - loss: 11.1828 - mae: 2.6855 - val_loss: 12.4141 - val_mae: 2.8235\n",
            "Epoch 12/20\n",
            "80/80 [==============================] - 1s 9ms/step - loss: 9.8638 - mae: 2.5156 - val_loss: 11.2490 - val_mae: 2.6926\n",
            "Epoch 13/20\n",
            "80/80 [==============================] - 1s 9ms/step - loss: 8.8124 - mae: 2.3741 - val_loss: 10.3033 - val_mae: 2.5806\n",
            "Epoch 14/20\n",
            "80/80 [==============================] - 1s 9ms/step - loss: 7.9834 - mae: 2.2569 - val_loss: 9.5446 - val_mae: 2.4898\n",
            "Epoch 15/20\n",
            "80/80 [==============================] - 1s 9ms/step - loss: 7.3552 - mae: 2.1655 - val_loss: 8.9535 - val_mae: 2.4184\n",
            "Epoch 16/20\n",
            "80/80 [==============================] - 1s 9ms/step - loss: 6.8992 - mae: 2.0983 - val_loss: 8.5001 - val_mae: 2.3654\n",
            "Epoch 17/20\n",
            "80/80 [==============================] - 1s 9ms/step - loss: 6.5681 - mae: 2.0469 - val_loss: 8.1422 - val_mae: 2.3184\n",
            "Epoch 18/20\n",
            "80/80 [==============================] - 1s 9ms/step - loss: 6.3154 - mae: 2.0059 - val_loss: 7.8491 - val_mae: 2.2757\n",
            "Epoch 19/20\n",
            "80/80 [==============================] - 1s 9ms/step - loss: 6.1125 - mae: 1.9717 - val_loss: 7.6017 - val_mae: 2.2377\n",
            "Epoch 20/20\n",
            "80/80 [==============================] - 1s 9ms/step - loss: 5.9366 - mae: 1.9422 - val_loss: 7.3894 - val_mae: 2.2040\n"
          ]
        }
      ]
    },
    {
      "cell_type": "code",
      "source": [
        "# Plot MAE cures for validation and training\n",
        "plot_hist_regression(history_lstm1, baseline)\n"
      ],
      "metadata": {
        "colab": {
          "base_uri": "https://localhost:8080/",
          "height": 279
        },
        "id": "hr-bgDUvXmvS",
        "outputId": "4b2c1818-09b8-4f5d-facd-6ef00c5c89b4"
      },
      "execution_count": 28,
      "outputs": [
        {
          "output_type": "display_data",
          "data": {
            "image/png": "[encoded data removed]",
            "text/plain": [
              "<Figure size 432x288 with 1 Axes>"
            ]
          },
          "metadata": {
            "needs_background": "light"
          }
        }
      ]
    },
    {
      "cell_type": "code",
      "source": [
        "print('Test MAE = %.2f degrees' % model_lstm1.evaluate(test_dataset)[1])"
      ],
      "metadata": {
        "colab": {
          "base_uri": "https://localhost:8080/"
        },
        "id": "0fFZvXXUcQ67",
        "outputId": "df5646c0-3778-4b01-9e17-fd21e7287e2d"
      },
      "execution_count": 29,
      "outputs": [
        {
          "output_type": "stream",
          "name": "stdout",
          "text": [
            "31/31 [==============================] - 0s 4ms/step - loss: 8.4855 - mae: 2.2958\n",
            "Test MAE = 2.30 degrees\n"
          ]
        }
      ]
    },
    {
      "cell_type": "markdown",
      "source": [
        "Success! We finally beat the common-sense baseline! The validation MAE now is 2.12 degrees, and the test MAE is 2.27.\n",
        "\n",
        "Why do LSTM layers work? Let's go back to the slides"
      ],
      "metadata": {
        "id": "bYSWwI1aXvwL"
      }
    },
    {
      "cell_type": "code",
      "source": [
        "# Adding dropout\n",
        "\n",
        "model_lstm2 = models.Sequential()\n",
        "model_lstm2.add(layers.LSTM(20, input_shape=(sequence_length, len(df.columns)-1), recurrent_dropout=0.25))\n",
        "model_lstm2.add(layers.Dropout(0.4))\n",
        "model_lstm2.add(layers.Dense(1))\n",
        "\n",
        "model_lstm2.summary()"
      ],
      "metadata": {
        "id": "acSYakeOcokB",
        "colab": {
          "base_uri": "https://localhost:8080/"
        },
        "outputId": "00f4e942-cd80-44cc-ad58-592b8fe4d8df"
      },
      "execution_count": 30,
      "outputs": [
        {
          "output_type": "stream",
          "name": "stdout",
          "text": [
            "WARNING:tensorflow:Layer lstm_1 will not use cuDNN kernels since it doesn't meet the criteria. It will use a generic GPU kernel as fallback when running on GPU.\n",
            "Model: \"sequential_4\"\n",
            "_________________________________________________________________\n",
            " Layer (type)                Output Shape              Param #   \n",
            "=================================================================\n",
            " lstm_1 (LSTM)               (None, 20)                2160      \n",
            "                                                                 \n",
            " dropout (Dropout)           (None, 20)                0         \n",
            "                                                                 \n",
            " dense_6 (Dense)             (None, 1)                 21        \n",
            "                                                                 \n",
            "=================================================================\n",
            "Total params: 2,181\n",
            "Trainable params: 2,181\n",
            "Non-trainable params: 0\n",
            "_________________________________________________________________\n"
          ]
        }
      ]
    },
    {
      "cell_type": "code",
      "source": [
        "model_lstm2.compile(optimizer='rmsprop', loss='mse', metrics=['mae'])\n",
        "history_lstm2 = model_lstm2.fit(train_dataset, epochs=n_epochs,\n",
        "                            validation_data=val_dataset)"
      ],
      "metadata": {
        "colab": {
          "base_uri": "https://localhost:8080/"
        },
        "id": "LvRnf9TWSWf9",
        "outputId": "8ad7fbb2-4b3d-44b2-a9f5-77c944c1b648"
      },
      "execution_count": 31,
      "outputs": [
        {
          "output_type": "stream",
          "name": "stdout",
          "text": [
            "Epoch 1/20\n",
            "80/80 [==============================] - 7s 57ms/step - loss: 137.8120 - mae: 10.6335 - val_loss: 116.4776 - val_mae: 9.6602\n",
            "Epoch 2/20\n",
            "80/80 [==============================] - 4s 53ms/step - loss: 93.2523 - mae: 8.5515 - val_loss: 65.6410 - val_mae: 6.7214\n",
            "Epoch 3/20\n",
            "80/80 [==============================] - 4s 54ms/step - loss: 55.6675 - mae: 6.1743 - val_loss: 44.1061 - val_mae: 5.2180\n",
            "Epoch 4/20\n",
            "80/80 [==============================] - 4s 54ms/step - loss: 41.3026 - mae: 5.2399 - val_loss: 33.9953 - val_mae: 4.5733\n",
            "Epoch 5/20\n",
            "80/80 [==============================] - 4s 53ms/step - loss: 32.2636 - mae: 4.5837 - val_loss: 27.7267 - val_mae: 4.1514\n",
            "Epoch 6/20\n",
            "80/80 [==============================] - 4s 53ms/step - loss: 27.2317 - mae: 4.2085 - val_loss: 23.5875 - val_mae: 3.8475\n",
            "Epoch 7/20\n",
            "80/80 [==============================] - 4s 53ms/step - loss: 24.2817 - mae: 3.9554 - val_loss: 20.0217 - val_mae: 3.5355\n",
            "Epoch 8/20\n",
            "80/80 [==============================] - 4s 53ms/step - loss: 20.2836 - mae: 3.6439 - val_loss: 17.3454 - val_mae: 3.2993\n",
            "Epoch 9/20\n",
            "80/80 [==============================] - 4s 54ms/step - loss: 17.5626 - mae: 3.3337 - val_loss: 14.8694 - val_mae: 3.0411\n",
            "Epoch 10/20\n",
            "80/80 [==============================] - 4s 53ms/step - loss: 16.1652 - mae: 3.1844 - val_loss: 12.9204 - val_mae: 2.8317\n",
            "Epoch 11/20\n",
            "80/80 [==============================] - 4s 54ms/step - loss: 14.9895 - mae: 3.0390 - val_loss: 11.7990 - val_mae: 2.7154\n",
            "Epoch 12/20\n",
            "80/80 [==============================] - 4s 54ms/step - loss: 14.5616 - mae: 3.0560 - val_loss: 11.1566 - val_mae: 2.6648\n",
            "Epoch 13/20\n",
            "80/80 [==============================] - 4s 54ms/step - loss: 13.0571 - mae: 2.8714 - val_loss: 9.8768 - val_mae: 2.4922\n",
            "Epoch 14/20\n",
            "80/80 [==============================] - 4s 53ms/step - loss: 13.1123 - mae: 2.8849 - val_loss: 9.1857 - val_mae: 2.4032\n",
            "Epoch 15/20\n",
            "80/80 [==============================] - 4s 54ms/step - loss: 11.7600 - mae: 2.7036 - val_loss: 8.7824 - val_mae: 2.3609\n",
            "Epoch 16/20\n",
            "80/80 [==============================] - 4s 54ms/step - loss: 12.1051 - mae: 2.7351 - val_loss: 8.3690 - val_mae: 2.3044\n",
            "Epoch 17/20\n",
            "80/80 [==============================] - 4s 55ms/step - loss: 11.4072 - mae: 2.6743 - val_loss: 8.0270 - val_mae: 2.2589\n",
            "Epoch 18/20\n",
            "80/80 [==============================] - 4s 53ms/step - loss: 11.6032 - mae: 2.7159 - val_loss: 7.8569 - val_mae: 2.2404\n",
            "Epoch 19/20\n",
            "80/80 [==============================] - 4s 55ms/step - loss: 11.4996 - mae: 2.6787 - val_loss: 7.3615 - val_mae: 2.1673\n",
            "Epoch 20/20\n",
            "80/80 [==============================] - 4s 54ms/step - loss: 10.1857 - mae: 2.5332 - val_loss: 7.4760 - val_mae: 2.1968\n"
          ]
        }
      ]
    },
    {
      "cell_type": "code",
      "source": [
        "# Plot MAE cures for validation and training\n",
        "plot_hist_regression(history_lstm2, baseline)"
      ],
      "metadata": {
        "colab": {
          "base_uri": "https://localhost:8080/",
          "height": 279
        },
        "id": "cWpm-j9iSck1",
        "outputId": "b5ada20d-94b2-42d0-bce0-d34ab5e7cadc"
      },
      "execution_count": 32,
      "outputs": [
        {
          "output_type": "display_data",
          "data": {
            "image/png": "[encoded data removed]",
            "text/plain": [
              "<Figure size 432x288 with 1 Axes>"
            ]
          },
          "metadata": {
            "needs_background": "light"
          }
        }
      ]
    },
    {
      "cell_type": "code",
      "source": [
        "print('Test MAE = %.2f degrees' % model_lstm2.evaluate(test_dataset)[1])"
      ],
      "metadata": {
        "colab": {
          "base_uri": "https://localhost:8080/"
        },
        "id": "rAIQrQDVSmSM",
        "outputId": "d720e012-cb62-4820-fd49-7a432eed6d9b"
      },
      "execution_count": 33,
      "outputs": [
        {
          "output_type": "stream",
          "name": "stdout",
          "text": [
            "31/31 [==============================] - 0s 8ms/step - loss: 7.9916 - mae: 2.1984\n",
            "Test MAE = 2.20 degrees\n"
          ]
        }
      ]
    },
    {
      "cell_type": "markdown",
      "source": [
        "Note that validation set MAE is now lower than MAE on training set -- no longer overfitting. Validation MAE is 2.16 and test MAE is also 2.16.\n",
        "\n",
        "NOTE: This is a very simple dataset with very small differences in performance between different models.  You'll just have to take my word for it that *in general* this approach works. "
      ],
      "metadata": {
        "id": "H3OrpvE3S4gM"
      }
    },
    {
      "cell_type": "code",
      "source": [
        "# Performance in the previous figure can (maybe) still be improved\n",
        "# Let's try to add some more layers -- we can do this now that we're no longer overfitting\n",
        "\n",
        "model_lstm3 = models.Sequential()\n",
        "model_lstm3.add(layers.LSTM(20, input_shape=(sequence_length, len(df.columns)-1), recurrent_dropout=0.25, return_sequences=True))  # NEW!\n",
        "model_lstm3.add(layers.LSTM(20, input_shape=(sequence_length, len(df.columns)-1), recurrent_dropout=0.25))  # NEW!!\n",
        "model_lstm3.add(layers.Dropout(0.4))\n",
        "model_lstm3.add(layers.Dense(1))\n",
        "model_lstm3.summary()"
      ],
      "metadata": {
        "colab": {
          "base_uri": "https://localhost:8080/"
        },
        "id": "jq_ZDTttTX6_",
        "outputId": "57d14862-7711-47ad-ba79-85fb995b278a"
      },
      "execution_count": 56,
      "outputs": [
        {
          "output_type": "stream",
          "name": "stdout",
          "text": [
            "WARNING:tensorflow:Layer lstm_11 will not use cuDNN kernels since it doesn't meet the criteria. It will use a generic GPU kernel as fallback when running on GPU.\n",
            "WARNING:tensorflow:Layer lstm_12 will not use cuDNN kernels since it doesn't meet the criteria. It will use a generic GPU kernel as fallback when running on GPU.\n",
            "Model: \"sequential_12\"\n",
            "_________________________________________________________________\n",
            " Layer (type)                Output Shape              Param #   \n",
            "=================================================================\n",
            " lstm_11 (LSTM)              (None, 14, 20)            2160      \n",
            "                                                                 \n",
            " lstm_12 (LSTM)              (None, 20)                3280      \n",
            "                                                                 \n",
            " dropout_14 (Dropout)        (None, 20)                0         \n",
            "                                                                 \n",
            " dense_18 (Dense)            (None, 1)                 21        \n",
            "                                                                 \n",
            "=================================================================\n",
            "Total params: 5,461\n",
            "Trainable params: 5,461\n",
            "Non-trainable params: 0\n",
            "_________________________________________________________________\n"
          ]
        }
      ]
    },
    {
      "cell_type": "code",
      "source": [
        "model_lstm3.compile(optimizer='rmsprop', loss='mse', metrics=['mae'])\n",
        "\n",
        "callbacks = [EarlyStopping(monitor='val_mae', patience=2)]\n",
        "\n",
        "history_lstm3 = model_lstm3.fit(train_dataset, epochs=60,  # increased number of epochs\n",
        "                            validation_data=val_dataset,\n",
        "                            callbacks=callbacks)  # but added early stopping callback\n"
      ],
      "metadata": {
        "colab": {
          "base_uri": "https://localhost:8080/",
          "height": 380
        },
        "id": "9xQXChtNUxzh",
        "outputId": "04775550-5649-4500-8ad0-c5c90711a3e8"
      },
      "execution_count": 57,
      "outputs": [
        {
          "output_type": "stream",
          "name": "stdout",
          "text": [
            "Epoch 1/60\n",
            "80/80 [==============================] - ETA: 0s - loss: 113.3809 - mae: 9.5298"
          ]
        },
        {
          "output_type": "error",
          "ename": "KeyboardInterrupt",
          "evalue": "ignored",
          "traceback": [
            "\u001b[0;31m---------------------------------------------------------------------------\u001b[0m",
            "\u001b[0;31mKeyboardInterrupt\u001b[0m                         Traceback (most recent call last)",
            "\u001b[0;32m<ipython-input-57-ded0926c53a2>\u001b[0m in \u001b[0;36m<module>\u001b[0;34m()\u001b[0m\n\u001b[1;32m      5\u001b[0m history_lstm3 = model_lstm3.fit(train_dataset, epochs=60,  # increased number of epochs\n\u001b[1;32m      6\u001b[0m                             \u001b[0mvalidation_data\u001b[0m\u001b[0;34m=\u001b[0m\u001b[0mval_dataset\u001b[0m\u001b[0;34m,\u001b[0m\u001b[0;34m\u001b[0m\u001b[0;34m\u001b[0m\u001b[0m\n\u001b[0;32m----> 7\u001b[0;31m                             callbacks=callbacks)  # but added early stopping callback\n\u001b[0m",
            "\u001b[0;32m/usr/local/lib/python3.7/dist-packages/keras/utils/traceback_utils.py\u001b[0m in \u001b[0;36merror_handler\u001b[0;34m(*args, **kwargs)\u001b[0m\n\u001b[1;32m     62\u001b[0m     \u001b[0mfiltered_tb\u001b[0m \u001b[0;34m=\u001b[0m \u001b[0;32mNone\u001b[0m\u001b[0;34m\u001b[0m\u001b[0;34m\u001b[0m\u001b[0m\n\u001b[1;32m     63\u001b[0m     \u001b[0;32mtry\u001b[0m\u001b[0;34m:\u001b[0m\u001b[0;34m\u001b[0m\u001b[0;34m\u001b[0m\u001b[0m\n\u001b[0;32m---> 64\u001b[0;31m       \u001b[0;32mreturn\u001b[0m \u001b[0mfn\u001b[0m\u001b[0;34m(\u001b[0m\u001b[0;34m*\u001b[0m\u001b[0margs\u001b[0m\u001b[0;34m,\u001b[0m \u001b[0;34m**\u001b[0m\u001b[0mkwargs\u001b[0m\u001b[0;34m)\u001b[0m\u001b[0;34m\u001b[0m\u001b[0;34m\u001b[0m\u001b[0m\n\u001b[0m\u001b[1;32m     65\u001b[0m     \u001b[0;32mexcept\u001b[0m \u001b[0mException\u001b[0m \u001b[0;32mas\u001b[0m \u001b[0me\u001b[0m\u001b[0;34m:\u001b[0m  \u001b[0;31m# pylint: disable=broad-except\u001b[0m\u001b[0;34m\u001b[0m\u001b[0;34m\u001b[0m\u001b[0m\n\u001b[1;32m     66\u001b[0m       \u001b[0mfiltered_tb\u001b[0m \u001b[0;34m=\u001b[0m \u001b[0m_process_traceback_frames\u001b[0m\u001b[0;34m(\u001b[0m\u001b[0me\u001b[0m\u001b[0;34m.\u001b[0m\u001b[0m__traceback__\u001b[0m\u001b[0;34m)\u001b[0m\u001b[0;34m\u001b[0m\u001b[0;34m\u001b[0m\u001b[0m\n",
            "\u001b[0;32m/usr/local/lib/python3.7/dist-packages/keras/engine/training.py\u001b[0m in \u001b[0;36mfit\u001b[0;34m(self, x, y, batch_size, epochs, verbose, callbacks, validation_split, validation_data, shuffle, class_weight, sample_weight, initial_epoch, steps_per_epoch, validation_steps, validation_batch_size, validation_freq, max_queue_size, workers, use_multiprocessing)\u001b[0m\n\u001b[1;32m   1429\u001b[0m               \u001b[0muse_multiprocessing\u001b[0m\u001b[0;34m=\u001b[0m\u001b[0muse_multiprocessing\u001b[0m\u001b[0;34m,\u001b[0m\u001b[0;34m\u001b[0m\u001b[0;34m\u001b[0m\u001b[0m\n\u001b[1;32m   1430\u001b[0m               \u001b[0mreturn_dict\u001b[0m\u001b[0;34m=\u001b[0m\u001b[0;32mTrue\u001b[0m\u001b[0;34m,\u001b[0m\u001b[0;34m\u001b[0m\u001b[0;34m\u001b[0m\u001b[0m\n\u001b[0;32m-> 1431\u001b[0;31m               _use_cached_eval_dataset=True)\n\u001b[0m\u001b[1;32m   1432\u001b[0m           \u001b[0mval_logs\u001b[0m \u001b[0;34m=\u001b[0m \u001b[0;34m{\u001b[0m\u001b[0;34m'val_'\u001b[0m \u001b[0;34m+\u001b[0m \u001b[0mname\u001b[0m\u001b[0;34m:\u001b[0m \u001b[0mval\u001b[0m \u001b[0;32mfor\u001b[0m \u001b[0mname\u001b[0m\u001b[0;34m,\u001b[0m \u001b[0mval\u001b[0m \u001b[0;32min\u001b[0m \u001b[0mval_logs\u001b[0m\u001b[0;34m.\u001b[0m\u001b[0mitems\u001b[0m\u001b[0;34m(\u001b[0m\u001b[0;34m)\u001b[0m\u001b[0;34m}\u001b[0m\u001b[0;34m\u001b[0m\u001b[0;34m\u001b[0m\u001b[0m\n\u001b[1;32m   1433\u001b[0m           \u001b[0mepoch_logs\u001b[0m\u001b[0;34m.\u001b[0m\u001b[0mupdate\u001b[0m\u001b[0;34m(\u001b[0m\u001b[0mval_logs\u001b[0m\u001b[0;34m)\u001b[0m\u001b[0;34m\u001b[0m\u001b[0;34m\u001b[0m\u001b[0m\n",
            "\u001b[0;32m/usr/local/lib/python3.7/dist-packages/keras/utils/traceback_utils.py\u001b[0m in \u001b[0;36merror_handler\u001b[0;34m(*args, **kwargs)\u001b[0m\n\u001b[1;32m     62\u001b[0m     \u001b[0mfiltered_tb\u001b[0m \u001b[0;34m=\u001b[0m \u001b[0;32mNone\u001b[0m\u001b[0;34m\u001b[0m\u001b[0;34m\u001b[0m\u001b[0m\n\u001b[1;32m     63\u001b[0m     \u001b[0;32mtry\u001b[0m\u001b[0;34m:\u001b[0m\u001b[0;34m\u001b[0m\u001b[0;34m\u001b[0m\u001b[0m\n\u001b[0;32m---> 64\u001b[0;31m       \u001b[0;32mreturn\u001b[0m \u001b[0mfn\u001b[0m\u001b[0;34m(\u001b[0m\u001b[0;34m*\u001b[0m\u001b[0margs\u001b[0m\u001b[0;34m,\u001b[0m \u001b[0;34m**\u001b[0m\u001b[0mkwargs\u001b[0m\u001b[0;34m)\u001b[0m\u001b[0;34m\u001b[0m\u001b[0;34m\u001b[0m\u001b[0m\n\u001b[0m\u001b[1;32m     65\u001b[0m     \u001b[0;32mexcept\u001b[0m \u001b[0mException\u001b[0m \u001b[0;32mas\u001b[0m \u001b[0me\u001b[0m\u001b[0;34m:\u001b[0m  \u001b[0;31m# pylint: disable=broad-except\u001b[0m\u001b[0;34m\u001b[0m\u001b[0;34m\u001b[0m\u001b[0m\n\u001b[1;32m     66\u001b[0m       \u001b[0mfiltered_tb\u001b[0m \u001b[0;34m=\u001b[0m \u001b[0m_process_traceback_frames\u001b[0m\u001b[0;34m(\u001b[0m\u001b[0me\u001b[0m\u001b[0;34m.\u001b[0m\u001b[0m__traceback__\u001b[0m\u001b[0;34m)\u001b[0m\u001b[0;34m\u001b[0m\u001b[0;34m\u001b[0m\u001b[0m\n",
            "\u001b[0;32m/usr/local/lib/python3.7/dist-packages/keras/engine/training.py\u001b[0m in \u001b[0;36mevaluate\u001b[0;34m(self, x, y, batch_size, verbose, sample_weight, steps, callbacks, max_queue_size, workers, use_multiprocessing, return_dict, **kwargs)\u001b[0m\n\u001b[1;32m   1714\u001b[0m             \u001b[0;32mwith\u001b[0m \u001b[0mtf\u001b[0m\u001b[0;34m.\u001b[0m\u001b[0mprofiler\u001b[0m\u001b[0;34m.\u001b[0m\u001b[0mexperimental\u001b[0m\u001b[0;34m.\u001b[0m\u001b[0mTrace\u001b[0m\u001b[0;34m(\u001b[0m\u001b[0;34m'test'\u001b[0m\u001b[0;34m,\u001b[0m \u001b[0mstep_num\u001b[0m\u001b[0;34m=\u001b[0m\u001b[0mstep\u001b[0m\u001b[0;34m,\u001b[0m \u001b[0m_r\u001b[0m\u001b[0;34m=\u001b[0m\u001b[0;36m1\u001b[0m\u001b[0;34m)\u001b[0m\u001b[0;34m:\u001b[0m\u001b[0;34m\u001b[0m\u001b[0;34m\u001b[0m\u001b[0m\n\u001b[1;32m   1715\u001b[0m               \u001b[0mcallbacks\u001b[0m\u001b[0;34m.\u001b[0m\u001b[0mon_test_batch_begin\u001b[0m\u001b[0;34m(\u001b[0m\u001b[0mstep\u001b[0m\u001b[0;34m)\u001b[0m\u001b[0;34m\u001b[0m\u001b[0;34m\u001b[0m\u001b[0m\n\u001b[0;32m-> 1716\u001b[0;31m               \u001b[0mtmp_logs\u001b[0m \u001b[0;34m=\u001b[0m \u001b[0mself\u001b[0m\u001b[0;34m.\u001b[0m\u001b[0mtest_function\u001b[0m\u001b[0;34m(\u001b[0m\u001b[0miterator\u001b[0m\u001b[0;34m)\u001b[0m\u001b[0;34m\u001b[0m\u001b[0;34m\u001b[0m\u001b[0m\n\u001b[0m\u001b[1;32m   1717\u001b[0m               \u001b[0;32mif\u001b[0m \u001b[0mdata_handler\u001b[0m\u001b[0;34m.\u001b[0m\u001b[0mshould_sync\u001b[0m\u001b[0;34m:\u001b[0m\u001b[0;34m\u001b[0m\u001b[0;34m\u001b[0m\u001b[0m\n\u001b[1;32m   1718\u001b[0m                 \u001b[0mcontext\u001b[0m\u001b[0;34m.\u001b[0m\u001b[0masync_wait\u001b[0m\u001b[0;34m(\u001b[0m\u001b[0;34m)\u001b[0m\u001b[0;34m\u001b[0m\u001b[0;34m\u001b[0m\u001b[0m\n",
            "\u001b[0;32m/usr/local/lib/python3.7/dist-packages/tensorflow/python/util/traceback_utils.py\u001b[0m in \u001b[0;36merror_handler\u001b[0;34m(*args, **kwargs)\u001b[0m\n\u001b[1;32m    148\u001b[0m     \u001b[0mfiltered_tb\u001b[0m \u001b[0;34m=\u001b[0m \u001b[0;32mNone\u001b[0m\u001b[0;34m\u001b[0m\u001b[0;34m\u001b[0m\u001b[0m\n\u001b[1;32m    149\u001b[0m     \u001b[0;32mtry\u001b[0m\u001b[0;34m:\u001b[0m\u001b[0;34m\u001b[0m\u001b[0;34m\u001b[0m\u001b[0m\n\u001b[0;32m--> 150\u001b[0;31m       \u001b[0;32mreturn\u001b[0m \u001b[0mfn\u001b[0m\u001b[0;34m(\u001b[0m\u001b[0;34m*\u001b[0m\u001b[0margs\u001b[0m\u001b[0;34m,\u001b[0m \u001b[0;34m**\u001b[0m\u001b[0mkwargs\u001b[0m\u001b[0;34m)\u001b[0m\u001b[0;34m\u001b[0m\u001b[0;34m\u001b[0m\u001b[0m\n\u001b[0m\u001b[1;32m    151\u001b[0m     \u001b[0;32mexcept\u001b[0m \u001b[0mException\u001b[0m \u001b[0;32mas\u001b[0m \u001b[0me\u001b[0m\u001b[0;34m:\u001b[0m\u001b[0;34m\u001b[0m\u001b[0;34m\u001b[0m\u001b[0m\n\u001b[1;32m    152\u001b[0m       \u001b[0mfiltered_tb\u001b[0m \u001b[0;34m=\u001b[0m \u001b[0m_process_traceback_frames\u001b[0m\u001b[0;34m(\u001b[0m\u001b[0me\u001b[0m\u001b[0;34m.\u001b[0m\u001b[0m__traceback__\u001b[0m\u001b[0;34m)\u001b[0m\u001b[0;34m\u001b[0m\u001b[0;34m\u001b[0m\u001b[0m\n",
            "\u001b[0;32m/usr/local/lib/python3.7/dist-packages/tensorflow/python/eager/def_function.py\u001b[0m in \u001b[0;36m__call__\u001b[0;34m(self, *args, **kwds)\u001b[0m\n\u001b[1;32m    913\u001b[0m \u001b[0;34m\u001b[0m\u001b[0m\n\u001b[1;32m    914\u001b[0m       \u001b[0;32mwith\u001b[0m \u001b[0mOptionalXlaContext\u001b[0m\u001b[0;34m(\u001b[0m\u001b[0mself\u001b[0m\u001b[0;34m.\u001b[0m\u001b[0m_jit_compile\u001b[0m\u001b[0;34m)\u001b[0m\u001b[0;34m:\u001b[0m\u001b[0;34m\u001b[0m\u001b[0;34m\u001b[0m\u001b[0m\n\u001b[0;32m--> 915\u001b[0;31m         \u001b[0mresult\u001b[0m \u001b[0;34m=\u001b[0m \u001b[0mself\u001b[0m\u001b[0;34m.\u001b[0m\u001b[0m_call\u001b[0m\u001b[0;34m(\u001b[0m\u001b[0;34m*\u001b[0m\u001b[0margs\u001b[0m\u001b[0;34m,\u001b[0m \u001b[0;34m**\u001b[0m\u001b[0mkwds\u001b[0m\u001b[0;34m)\u001b[0m\u001b[0;34m\u001b[0m\u001b[0;34m\u001b[0m\u001b[0m\n\u001b[0m\u001b[1;32m    916\u001b[0m \u001b[0;34m\u001b[0m\u001b[0m\n\u001b[1;32m    917\u001b[0m       \u001b[0mnew_tracing_count\u001b[0m \u001b[0;34m=\u001b[0m \u001b[0mself\u001b[0m\u001b[0;34m.\u001b[0m\u001b[0mexperimental_get_tracing_count\u001b[0m\u001b[0;34m(\u001b[0m\u001b[0;34m)\u001b[0m\u001b[0;34m\u001b[0m\u001b[0;34m\u001b[0m\u001b[0m\n",
            "\u001b[0;32m/usr/local/lib/python3.7/dist-packages/tensorflow/python/eager/def_function.py\u001b[0m in \u001b[0;36m_call\u001b[0;34m(self, *args, **kwds)\u001b[0m\n\u001b[1;32m    985\u001b[0m       \u001b[0;31m# If we did not create any variables the trace we have is good enough.\u001b[0m\u001b[0;34m\u001b[0m\u001b[0;34m\u001b[0m\u001b[0;34m\u001b[0m\u001b[0m\n\u001b[1;32m    986\u001b[0m       return self._concrete_stateful_fn._call_flat(\n\u001b[0;32m--> 987\u001b[0;31m           filtered_flat_args, self._concrete_stateful_fn.captured_inputs)  # pylint: disable=protected-access\n\u001b[0m\u001b[1;32m    988\u001b[0m \u001b[0;34m\u001b[0m\u001b[0m\n\u001b[1;32m    989\u001b[0m     \u001b[0;32mdef\u001b[0m \u001b[0mfn_with_cond\u001b[0m\u001b[0;34m(\u001b[0m\u001b[0minner_args\u001b[0m\u001b[0;34m,\u001b[0m \u001b[0minner_kwds\u001b[0m\u001b[0;34m,\u001b[0m \u001b[0minner_filtered_flat_args\u001b[0m\u001b[0;34m)\u001b[0m\u001b[0;34m:\u001b[0m\u001b[0;34m\u001b[0m\u001b[0;34m\u001b[0m\u001b[0m\n",
            "\u001b[0;32m/usr/local/lib/python3.7/dist-packages/tensorflow/python/eager/function.py\u001b[0m in \u001b[0;36m_call_flat\u001b[0;34m(self, args, captured_inputs, cancellation_manager)\u001b[0m\n\u001b[1;32m   1852\u001b[0m       \u001b[0;31m# No tape is watching; skip to running the function.\u001b[0m\u001b[0;34m\u001b[0m\u001b[0;34m\u001b[0m\u001b[0;34m\u001b[0m\u001b[0m\n\u001b[1;32m   1853\u001b[0m       return self._build_call_outputs(self._inference_function.call(\n\u001b[0;32m-> 1854\u001b[0;31m           ctx, args, cancellation_manager=cancellation_manager))\n\u001b[0m\u001b[1;32m   1855\u001b[0m     forward_backward = self._select_forward_and_backward_functions(\n\u001b[1;32m   1856\u001b[0m         \u001b[0margs\u001b[0m\u001b[0;34m,\u001b[0m\u001b[0;34m\u001b[0m\u001b[0;34m\u001b[0m\u001b[0m\n",
            "\u001b[0;32m/usr/local/lib/python3.7/dist-packages/tensorflow/python/eager/function.py\u001b[0m in \u001b[0;36mcall\u001b[0;34m(self, ctx, args, cancellation_manager)\u001b[0m\n\u001b[1;32m    502\u001b[0m               \u001b[0minputs\u001b[0m\u001b[0;34m=\u001b[0m\u001b[0margs\u001b[0m\u001b[0;34m,\u001b[0m\u001b[0;34m\u001b[0m\u001b[0;34m\u001b[0m\u001b[0m\n\u001b[1;32m    503\u001b[0m               \u001b[0mattrs\u001b[0m\u001b[0;34m=\u001b[0m\u001b[0mattrs\u001b[0m\u001b[0;34m,\u001b[0m\u001b[0;34m\u001b[0m\u001b[0;34m\u001b[0m\u001b[0m\n\u001b[0;32m--> 504\u001b[0;31m               ctx=ctx)\n\u001b[0m\u001b[1;32m    505\u001b[0m         \u001b[0;32melse\u001b[0m\u001b[0;34m:\u001b[0m\u001b[0;34m\u001b[0m\u001b[0;34m\u001b[0m\u001b[0m\n\u001b[1;32m    506\u001b[0m           outputs = execute.execute_with_cancellation(\n",
            "\u001b[0;32m/usr/local/lib/python3.7/dist-packages/tensorflow/python/eager/execute.py\u001b[0m in \u001b[0;36mquick_execute\u001b[0;34m(op_name, num_outputs, inputs, attrs, ctx, name)\u001b[0m\n\u001b[1;32m     53\u001b[0m     \u001b[0mctx\u001b[0m\u001b[0;34m.\u001b[0m\u001b[0mensure_initialized\u001b[0m\u001b[0;34m(\u001b[0m\u001b[0;34m)\u001b[0m\u001b[0;34m\u001b[0m\u001b[0;34m\u001b[0m\u001b[0m\n\u001b[1;32m     54\u001b[0m     tensors = pywrap_tfe.TFE_Py_Execute(ctx._handle, device_name, op_name,\n\u001b[0;32m---> 55\u001b[0;31m                                         inputs, attrs, num_outputs)\n\u001b[0m\u001b[1;32m     56\u001b[0m   \u001b[0;32mexcept\u001b[0m \u001b[0mcore\u001b[0m\u001b[0;34m.\u001b[0m\u001b[0m_NotOkStatusException\u001b[0m \u001b[0;32mas\u001b[0m \u001b[0me\u001b[0m\u001b[0;34m:\u001b[0m\u001b[0;34m\u001b[0m\u001b[0;34m\u001b[0m\u001b[0m\n\u001b[1;32m     57\u001b[0m     \u001b[0;32mif\u001b[0m \u001b[0mname\u001b[0m \u001b[0;32mis\u001b[0m \u001b[0;32mnot\u001b[0m \u001b[0;32mNone\u001b[0m\u001b[0;34m:\u001b[0m\u001b[0;34m\u001b[0m\u001b[0;34m\u001b[0m\u001b[0m\n",
            "\u001b[0;31mKeyboardInterrupt\u001b[0m: "
          ]
        }
      ]
    },
    {
      "cell_type": "code",
      "source": [
        "# Plot MAE cures for validation and training\n",
        "plot_hist_regression(history_lstm3, baseline)\n",
        "print('Test MAE = %.2f degrees' % model_lstm3.evaluate(test_dataset)[1])"
      ],
      "metadata": {
        "colab": {
          "base_uri": "https://localhost:8080/",
          "height": 315
        },
        "id": "PtFfB3YaU4k3",
        "outputId": "ae3f3131-0f8d-4fde-ba58-9e1378ac5ff6"
      },
      "execution_count": 36,
      "outputs": [
        {
          "output_type": "display_data",
          "data": {
            "image/png": "[encoded data removed]",
            "text/plain": [
              "<Figure size 432x288 with 1 Axes>"
            ]
          },
          "metadata": {
            "needs_background": "light"
          }
        },
        {
          "output_type": "stream",
          "name": "stdout",
          "text": [
            "31/31 [==============================] - 0s 12ms/step - loss: 9.9231 - mae: 2.4946\n",
            "Test MAE = 2.49 degrees\n"
          ]
        }
      ]
    },
    {
      "cell_type": "markdown",
      "source": [
        "Validation MAE = 1.92 degrees\n",
        "\n",
        "Test MAE = 1.89 degrees\n"
      ],
      "metadata": {
        "id": "eUJqRqp1XJnL"
      }
    },
    {
      "cell_type": "markdown",
      "source": [
        "# Text"
      ],
      "metadata": {
        "id": "zGEuNqw2csXj"
      }
    },
    {
      "cell_type": "markdown",
      "source": [
        "## Data prep\n",
        "\n",
        "We'll try to predict whether the review for a movie is positive or negative looking only at the text of the review.\n",
        "\n",
        "We'll use the IMDB text dataset for this task, which is available on `keras.datasets` and described [here](https://keras.io/api/datasets/imdb/). \n",
        "\n",
        "We'll merge the training and test sets and use 60% for training, 20% for validation, and 20% for testing.\n",
        "\n",
        "\n",
        "As this is a binary classificationp problem, we'll use the binary cross entropy loss function. We will keep track of accuracy when training and evaluating the model.\n"
      ],
      "metadata": {
        "id": "dtv0EjsTbwvm"
      }
    },
    {
      "cell_type": "code",
      "source": [
        "def plot_hist_classif(hist):\n",
        "  n_ = len(hist.history['accuracy'])\n",
        "  plt.plot(range(1, n_+1), 100*np.asarray(hist.history['accuracy']), 'bo', label='Accuracy on training set')\n",
        "  plt.plot(range(1, n_+1), 100*np.asarray(hist.history['val_accuracy']), 'b', label='Accuracy on validation set')\n",
        "  plt.legend()\n",
        "  plt.xlabel(\"Epoch\") \n",
        "  plt.ylabel(\"Accuracy\")\n",
        "  plt.ylim(0, 100)\n",
        "  plt.axhline(y=50)\n",
        "  plt.show()\n"
      ],
      "metadata": {
        "id": "i-mH-8IGwGo1"
      },
      "execution_count": 58,
      "outputs": []
    },
    {
      "cell_type": "code",
      "source": [
        "max_features = 15000  # only consider the top 15k words\n",
        "maxlen = 500  # first 500 words of each review\n",
        "batch_size = 32\n",
        "\n",
        "print('Loading data...')\n",
        "# Load dataset\n",
        "(x_train, y_train), (x_test, y_test) = keras.datasets.imdb.load_data(num_words=max_features)\n",
        "print(len(x_train), 'train sequences', x_train.shape)\n",
        "print(len(x_test), 'test sequences', x_test.shape)"
      ],
      "metadata": {
        "colab": {
          "base_uri": "https://localhost:8080/"
        },
        "id": "4TW3Vg49n5V-",
        "outputId": "89531758-9797-49f6-d05a-65d9160d4ad4"
      },
      "execution_count": 59,
      "outputs": [
        {
          "output_type": "stream",
          "name": "stdout",
          "text": [
            "Loading data...\n",
            "25000 train sequences (25000,)\n",
            "25000 test sequences (25000,)\n"
          ]
        }
      ]
    },
    {
      "cell_type": "code",
      "source": [
        "# How balanced is this dataset?\n",
        "print(np.sum(y_train)/len(y_train))\n",
        "print(np.sum(y_test)/len(y_test))"
      ],
      "metadata": {
        "colab": {
          "base_uri": "https://localhost:8080/"
        },
        "id": "8ApTb-jYtSOm",
        "outputId": "40696f47-f430-4c13-a46c-51cff837b44f"
      },
      "execution_count": 60,
      "outputs": [
        {
          "output_type": "stream",
          "name": "stdout",
          "text": [
            "0.5\n",
            "0.5\n"
          ]
        }
      ]
    },
    {
      "cell_type": "code",
      "source": [
        "# Merge the two datasets and divide: 60% for training, 20% validation, 20% test\n",
        "x_, y_ = np.concatenate((x_train, x_test)), np.concatenate((y_train, y_test))\n",
        "print(x_.shape, y_.shape)\n",
        "x_train, x_test, y_train, y_test = train_test_split(x_, y_, test_size=0.4, random_state=10)  # 60/40 split\n",
        "x_val, x_test, y_val, y_test = train_test_split(x_test, y_test, test_size=0.5, random_state=10)  # 50/50 split\n",
        "print(len(x_train), 'train sequences', x_train.shape)\n",
        "print(len(x_val), 'validation sequences', x_val.shape)\n",
        "print(len(x_test), 'test sequences', x_test.shape)"
      ],
      "metadata": {
        "colab": {
          "base_uri": "https://localhost:8080/"
        },
        "id": "Z53Fbicqr8tm",
        "outputId": "1638095f-a5fa-4301-a6a0-3a41a547c6c4"
      },
      "execution_count": 61,
      "outputs": [
        {
          "output_type": "stream",
          "name": "stdout",
          "text": [
            "(50000,) (50000,)\n",
            "30000 train sequences (30000,)\n",
            "10000 validation sequences (10000,)\n",
            "10000 test sequences (10000,)\n"
          ]
        }
      ]
    },
    {
      "cell_type": "code",
      "source": [
        "x_train[0][:10]  # numbers!!"
      ],
      "metadata": {
        "colab": {
          "base_uri": "https://localhost:8080/"
        },
        "id": "5v_Hy-r8o8pR",
        "outputId": "1a4c9fe7-b495-4353-bd7f-d85ebdc053d7"
      },
      "execution_count": 62,
      "outputs": [
        {
          "output_type": "execute_result",
          "data": {
            "text/plain": [
              "[1, 11531, 186, 8, 28, 6, 6482, 7, 269, 4042]"
            ]
          },
          "metadata": {},
          "execution_count": 62
        }
      ]
    },
    {
      "cell_type": "code",
      "source": [
        "# We can explore what one of the reviews looks like at this point.\n",
        "\n",
        "# Retrieve the word index file that maps words to indices\n",
        "word_index = keras.datasets.imdb.get_word_index()\n",
        "# Reverse the word index to obtain a dict mapping indices to words (which is what we have)\n",
        "inverted_word_index = dict((i, word) for (word, i) in word_index.items())\n",
        "# Decode the first sequence in the dataset\n",
        "decoded_sequence = \" \".join(inverted_word_index[i] for i in x_train[0])\n",
        "decoded_sequence"
      ],
      "metadata": {
        "colab": {
          "base_uri": "https://localhost:8080/",
          "height": 53
        },
        "id": "rgEgNSLBpFwh",
        "outputId": "e2ada543-a22a-4b11-ae20-2a84e9f353c5"
      },
      "execution_count": 63,
      "outputs": [
        {
          "output_type": "execute_result",
          "data": {
            "application/vnd.google.colaboratory.intrinsic+json": {
              "type": "string"
            },
            "text/plain": [
              "\"the lilly horror in one is fatale br looks meaningless in bronson be showing as you debut film ample to and ingredients zombi ample they for series and thought she's all manipulate and believing in j show look early last quote desire tight interesting that's kind out is far shelter but of frame br and\""
            ]
          },
          "metadata": {},
          "execution_count": 63
        }
      ]
    },
    {
      "cell_type": "code",
      "source": [
        "# Let's ensure all sequences have the same length through padding\n",
        "# - shorter reviews are padded with 0's\n",
        "# - longer reviews are cut\n",
        "print('Pad sequences')\n",
        "x_train = keras.preprocessing.sequence.pad_sequences(x_train, maxlen=maxlen)\n",
        "x_val = keras.preprocessing.sequence.pad_sequences(x_val, maxlen=maxlen)\n",
        "x_test = keras.preprocessing.sequence.pad_sequences(x_test, maxlen=maxlen)\n",
        "print('x_train shape:', x_train.shape)\n",
        "print('x_val shape:', x_val.shape)\n",
        "print('x_test shape:', x_test.shape)"
      ],
      "metadata": {
        "colab": {
          "base_uri": "https://localhost:8080/"
        },
        "id": "ibmO0V-gcthG",
        "outputId": "73a6e89f-5a6c-4541-b641-00453315bddc"
      },
      "execution_count": 64,
      "outputs": [
        {
          "output_type": "stream",
          "name": "stdout",
          "text": [
            "Pad sequences\n",
            "x_train shape: (30000, 500)\n",
            "x_val shape: (10000, 500)\n",
            "x_test shape: (10000, 500)\n"
          ]
        }
      ]
    },
    {
      "cell_type": "code",
      "source": [
        "# Basic feedforward model\n",
        "model = models.Sequential()\n",
        "model.add(layers.Embedding(max_features, 128, input_length=maxlen))\n",
        "model.add(layers.Dense(64, activation='relu'))\n",
        "model.add(layers.Dropout(0.5))\n",
        "model.add(layers.Dense(64, activation='relu'))\n",
        "model.add(layers.Dropout(0.5))\n",
        "model.add(layers.Flatten())\n",
        "model.add(layers.Dense(1, activation=\"sigmoid\"))\n",
        "model.summary()"
      ],
      "metadata": {
        "colab": {
          "base_uri": "https://localhost:8080/"
        },
        "id": "sBpQpwBAk44H",
        "outputId": "b04e76ab-9393-4349-dee6-b135116fdb96"
      },
      "execution_count": 65,
      "outputs": [
        {
          "output_type": "stream",
          "name": "stdout",
          "text": [
            "Model: \"sequential_13\"\n",
            "_________________________________________________________________\n",
            " Layer (type)                Output Shape              Param #   \n",
            "=================================================================\n",
            " embedding_8 (Embedding)     (None, 500, 128)          1920000   \n",
            "                                                                 \n",
            " dense_19 (Dense)            (None, 500, 64)           8256      \n",
            "                                                                 \n",
            " dropout_15 (Dropout)        (None, 500, 64)           0         \n",
            "                                                                 \n",
            " dense_20 (Dense)            (None, 500, 64)           4160      \n",
            "                                                                 \n",
            " dropout_16 (Dropout)        (None, 500, 64)           0         \n",
            "                                                                 \n",
            " flatten_2 (Flatten)         (None, 32000)             0         \n",
            "                                                                 \n",
            " dense_21 (Dense)            (None, 1)                 32001     \n",
            "                                                                 \n",
            "=================================================================\n",
            "Total params: 1,964,417\n",
            "Trainable params: 1,964,417\n",
            "Non-trainable params: 0\n",
            "_________________________________________________________________\n"
          ]
        }
      ]
    },
    {
      "cell_type": "code",
      "source": [
        "model.compile(optimizer=\"rmsprop\", loss=\"binary_crossentropy\", metrics=[\"accuracy\"])\n",
        "history = model.fit(x_train, y_train, batch_size=batch_size, epochs=20, validation_data=(x_val, y_val))"
      ],
      "metadata": {
        "colab": {
          "base_uri": "https://localhost:8080/",
          "height": 363
        },
        "id": "-8c7tCS5vrC3",
        "outputId": "b21405cd-6642-4df5-e9d1-ba9cbc0492fa"
      },
      "execution_count": 66,
      "outputs": [
        {
          "output_type": "stream",
          "name": "stdout",
          "text": [
            "Epoch 1/20\n",
            "934/938 [============================>.] - ETA: 0s - loss: 0.4518 - accuracy: 0.7567"
          ]
        },
        {
          "output_type": "error",
          "ename": "KeyboardInterrupt",
          "evalue": "ignored",
          "traceback": [
            "\u001b[0;31m---------------------------------------------------------------------------\u001b[0m",
            "\u001b[0;31mKeyboardInterrupt\u001b[0m                         Traceback (most recent call last)",
            "\u001b[0;32m<ipython-input-66-f8bcfa40b16f>\u001b[0m in \u001b[0;36m<module>\u001b[0;34m()\u001b[0m\n\u001b[1;32m      1\u001b[0m \u001b[0mmodel\u001b[0m\u001b[0;34m.\u001b[0m\u001b[0mcompile\u001b[0m\u001b[0;34m(\u001b[0m\u001b[0moptimizer\u001b[0m\u001b[0;34m=\u001b[0m\u001b[0;34m\"rmsprop\"\u001b[0m\u001b[0;34m,\u001b[0m \u001b[0mloss\u001b[0m\u001b[0;34m=\u001b[0m\u001b[0;34m\"binary_crossentropy\"\u001b[0m\u001b[0;34m,\u001b[0m \u001b[0mmetrics\u001b[0m\u001b[0;34m=\u001b[0m\u001b[0;34m[\u001b[0m\u001b[0;34m\"accuracy\"\u001b[0m\u001b[0;34m]\u001b[0m\u001b[0;34m)\u001b[0m\u001b[0;34m\u001b[0m\u001b[0;34m\u001b[0m\u001b[0m\n\u001b[0;32m----> 2\u001b[0;31m \u001b[0mhistory\u001b[0m \u001b[0;34m=\u001b[0m \u001b[0mmodel\u001b[0m\u001b[0;34m.\u001b[0m\u001b[0mfit\u001b[0m\u001b[0;34m(\u001b[0m\u001b[0mx_train\u001b[0m\u001b[0;34m,\u001b[0m \u001b[0my_train\u001b[0m\u001b[0;34m,\u001b[0m \u001b[0mbatch_size\u001b[0m\u001b[0;34m=\u001b[0m\u001b[0mbatch_size\u001b[0m\u001b[0;34m,\u001b[0m \u001b[0mepochs\u001b[0m\u001b[0;34m=\u001b[0m\u001b[0;36m20\u001b[0m\u001b[0;34m,\u001b[0m \u001b[0mvalidation_data\u001b[0m\u001b[0;34m=\u001b[0m\u001b[0;34m(\u001b[0m\u001b[0mx_val\u001b[0m\u001b[0;34m,\u001b[0m \u001b[0my_val\u001b[0m\u001b[0;34m)\u001b[0m\u001b[0;34m)\u001b[0m\u001b[0;34m\u001b[0m\u001b[0;34m\u001b[0m\u001b[0m\n\u001b[0m",
            "\u001b[0;32m/usr/local/lib/python3.7/dist-packages/keras/utils/traceback_utils.py\u001b[0m in \u001b[0;36merror_handler\u001b[0;34m(*args, **kwargs)\u001b[0m\n\u001b[1;32m     62\u001b[0m     \u001b[0mfiltered_tb\u001b[0m \u001b[0;34m=\u001b[0m \u001b[0;32mNone\u001b[0m\u001b[0;34m\u001b[0m\u001b[0;34m\u001b[0m\u001b[0m\n\u001b[1;32m     63\u001b[0m     \u001b[0;32mtry\u001b[0m\u001b[0;34m:\u001b[0m\u001b[0;34m\u001b[0m\u001b[0;34m\u001b[0m\u001b[0m\n\u001b[0;32m---> 64\u001b[0;31m       \u001b[0;32mreturn\u001b[0m \u001b[0mfn\u001b[0m\u001b[0;34m(\u001b[0m\u001b[0;34m*\u001b[0m\u001b[0margs\u001b[0m\u001b[0;34m,\u001b[0m \u001b[0;34m**\u001b[0m\u001b[0mkwargs\u001b[0m\u001b[0;34m)\u001b[0m\u001b[0;34m\u001b[0m\u001b[0;34m\u001b[0m\u001b[0m\n\u001b[0m\u001b[1;32m     65\u001b[0m     \u001b[0;32mexcept\u001b[0m \u001b[0mException\u001b[0m \u001b[0;32mas\u001b[0m \u001b[0me\u001b[0m\u001b[0;34m:\u001b[0m  \u001b[0;31m# pylint: disable=broad-except\u001b[0m\u001b[0;34m\u001b[0m\u001b[0;34m\u001b[0m\u001b[0m\n\u001b[1;32m     66\u001b[0m       \u001b[0mfiltered_tb\u001b[0m \u001b[0;34m=\u001b[0m \u001b[0m_process_traceback_frames\u001b[0m\u001b[0;34m(\u001b[0m\u001b[0me\u001b[0m\u001b[0;34m.\u001b[0m\u001b[0m__traceback__\u001b[0m\u001b[0;34m)\u001b[0m\u001b[0;34m\u001b[0m\u001b[0;34m\u001b[0m\u001b[0m\n",
            "\u001b[0;32m/usr/local/lib/python3.7/dist-packages/keras/engine/training.py\u001b[0m in \u001b[0;36mfit\u001b[0;34m(self, x, y, batch_size, epochs, verbose, callbacks, validation_split, validation_data, shuffle, class_weight, sample_weight, initial_epoch, steps_per_epoch, validation_steps, validation_batch_size, validation_freq, max_queue_size, workers, use_multiprocessing)\u001b[0m\n\u001b[1;32m   1429\u001b[0m               \u001b[0muse_multiprocessing\u001b[0m\u001b[0;34m=\u001b[0m\u001b[0muse_multiprocessing\u001b[0m\u001b[0;34m,\u001b[0m\u001b[0;34m\u001b[0m\u001b[0;34m\u001b[0m\u001b[0m\n\u001b[1;32m   1430\u001b[0m               \u001b[0mreturn_dict\u001b[0m\u001b[0;34m=\u001b[0m\u001b[0;32mTrue\u001b[0m\u001b[0;34m,\u001b[0m\u001b[0;34m\u001b[0m\u001b[0;34m\u001b[0m\u001b[0m\n\u001b[0;32m-> 1431\u001b[0;31m               _use_cached_eval_dataset=True)\n\u001b[0m\u001b[1;32m   1432\u001b[0m           \u001b[0mval_logs\u001b[0m \u001b[0;34m=\u001b[0m \u001b[0;34m{\u001b[0m\u001b[0;34m'val_'\u001b[0m \u001b[0;34m+\u001b[0m \u001b[0mname\u001b[0m\u001b[0;34m:\u001b[0m \u001b[0mval\u001b[0m \u001b[0;32mfor\u001b[0m \u001b[0mname\u001b[0m\u001b[0;34m,\u001b[0m \u001b[0mval\u001b[0m \u001b[0;32min\u001b[0m \u001b[0mval_logs\u001b[0m\u001b[0;34m.\u001b[0m\u001b[0mitems\u001b[0m\u001b[0;34m(\u001b[0m\u001b[0;34m)\u001b[0m\u001b[0;34m}\u001b[0m\u001b[0;34m\u001b[0m\u001b[0;34m\u001b[0m\u001b[0m\n\u001b[1;32m   1433\u001b[0m           \u001b[0mepoch_logs\u001b[0m\u001b[0;34m.\u001b[0m\u001b[0mupdate\u001b[0m\u001b[0;34m(\u001b[0m\u001b[0mval_logs\u001b[0m\u001b[0;34m)\u001b[0m\u001b[0;34m\u001b[0m\u001b[0;34m\u001b[0m\u001b[0m\n",
            "\u001b[0;32m/usr/local/lib/python3.7/dist-packages/keras/utils/traceback_utils.py\u001b[0m in \u001b[0;36merror_handler\u001b[0;34m(*args, **kwargs)\u001b[0m\n\u001b[1;32m     62\u001b[0m     \u001b[0mfiltered_tb\u001b[0m \u001b[0;34m=\u001b[0m \u001b[0;32mNone\u001b[0m\u001b[0;34m\u001b[0m\u001b[0;34m\u001b[0m\u001b[0m\n\u001b[1;32m     63\u001b[0m     \u001b[0;32mtry\u001b[0m\u001b[0;34m:\u001b[0m\u001b[0;34m\u001b[0m\u001b[0;34m\u001b[0m\u001b[0m\n\u001b[0;32m---> 64\u001b[0;31m       \u001b[0;32mreturn\u001b[0m \u001b[0mfn\u001b[0m\u001b[0;34m(\u001b[0m\u001b[0;34m*\u001b[0m\u001b[0margs\u001b[0m\u001b[0;34m,\u001b[0m \u001b[0;34m**\u001b[0m\u001b[0mkwargs\u001b[0m\u001b[0;34m)\u001b[0m\u001b[0;34m\u001b[0m\u001b[0;34m\u001b[0m\u001b[0m\n\u001b[0m\u001b[1;32m     65\u001b[0m     \u001b[0;32mexcept\u001b[0m \u001b[0mException\u001b[0m \u001b[0;32mas\u001b[0m \u001b[0me\u001b[0m\u001b[0;34m:\u001b[0m  \u001b[0;31m# pylint: disable=broad-except\u001b[0m\u001b[0;34m\u001b[0m\u001b[0;34m\u001b[0m\u001b[0m\n\u001b[1;32m     66\u001b[0m       \u001b[0mfiltered_tb\u001b[0m \u001b[0;34m=\u001b[0m \u001b[0m_process_traceback_frames\u001b[0m\u001b[0;34m(\u001b[0m\u001b[0me\u001b[0m\u001b[0;34m.\u001b[0m\u001b[0m__traceback__\u001b[0m\u001b[0;34m)\u001b[0m\u001b[0;34m\u001b[0m\u001b[0;34m\u001b[0m\u001b[0m\n",
            "\u001b[0;31mKeyboardInterrupt\u001b[0m: "
          ]
        }
      ]
    },
    {
      "cell_type": "code",
      "source": [
        "plot_hist_classif(history)\n",
        "print('Test Accuracy = %.2f' % model.evaluate(x_test, y_test)[1])  # overfitting!"
      ],
      "metadata": {
        "colab": {
          "base_uri": "https://localhost:8080/",
          "height": 318
        },
        "id": "dKBVw5mHv_oX",
        "outputId": "231d0d5c-4e34-4d1c-8289-f730c9037198"
      },
      "execution_count": 46,
      "outputs": [
        {
          "output_type": "display_data",
          "data": {
            "image/png": "[encoded data removed]",
            "text/plain": [
              "<Figure size 432x288 with 1 Axes>"
            ]
          },
          "metadata": {
            "needs_background": "light"
          }
        },
        {
          "output_type": "stream",
          "name": "stdout",
          "text": [
            "313/313 [==============================] - 1s 3ms/step - loss: 0.4015 - accuracy: 0.8765\n",
            "Test Accuracy = 0.88\n"
          ]
        }
      ]
    },
    {
      "cell_type": "code",
      "source": [
        "# Let's try an RNN\n",
        "model = models.Sequential()\n",
        "model.add(layers.Embedding(max_features, 64))\n",
        "model.add(layers.LSTM(128, return_sequences=False))\n",
        "model.add(layers.Dropout(0.5))\n",
        "model.add(layers.Dense(1, activation=\"sigmoid\"))\n",
        "model.compile(optimizer=\"rmsprop\", loss=\"binary_crossentropy\", metrics=[\"accuracy\"])\n",
        "model.summary()"
      ],
      "metadata": {
        "colab": {
          "base_uri": "https://localhost:8080/"
        },
        "id": "Ieh7Wl9Pwh8V",
        "outputId": "43fdce0f-27de-4f75-b2db-eaefc416da7c"
      },
      "execution_count": 26,
      "outputs": [
        {
          "output_type": "stream",
          "name": "stdout",
          "text": [
            "Model: \"sequential_4\"\n",
            "_________________________________________________________________\n",
            " Layer (type)                Output Shape              Param #   \n",
            "=================================================================\n",
            " embedding_1 (Embedding)     (None, None, 64)          960000    \n",
            "                                                                 \n",
            " lstm_3 (LSTM)               (None, 128)               98816     \n",
            "                                                                 \n",
            " dropout_3 (Dropout)         (None, 128)               0         \n",
            "                                                                 \n",
            " dense_7 (Dense)             (None, 1)                 129       \n",
            "                                                                 \n",
            "=================================================================\n",
            "Total params: 1,058,945\n",
            "Trainable params: 1,058,945\n",
            "Non-trainable params: 0\n",
            "_________________________________________________________________\n"
          ]
        }
      ]
    },
    {
      "cell_type": "code",
      "source": [
        "# This model will take a long time to train, so we add an early stopping criterion\n",
        "# N.B: It's actually much faster to train WITHOUT A GPU!!\n",
        "callbacks = [EarlyStopping(monitor='val_accuracy', patience=2)]\n",
        "history = model.fit(x_train, y_train, batch_size=batch_size, epochs=20, validation_data=(x_val, y_val), callbacks=callbacks)\n",
        "plot_hist_classif(history)\n",
        "print('Test Accuracy = %.2f' % model.evaluate(x_test, y_test)[1])\n",
        "# Note that we're still overfitting, but this is just an example of use"
      ],
      "metadata": {
        "colab": {
          "base_uri": "https://localhost:8080/",
          "height": 630
        },
        "id": "Sd54xZMmxKBQ",
        "outputId": "eb8dc0a5-a616-48b6-c2b4-6c9fea348557"
      },
      "execution_count": 27,
      "outputs": [
        {
          "output_type": "stream",
          "name": "stdout",
          "text": [
            "Epoch 1/20\n",
            "938/938 [==============================] - 31s 30ms/step - loss: 0.4250 - accuracy: 0.8106 - val_loss: 0.3544 - val_accuracy: 0.8497\n",
            "Epoch 2/20\n",
            "938/938 [==============================] - 26s 28ms/step - loss: 0.2828 - accuracy: 0.8911 - val_loss: 0.3076 - val_accuracy: 0.8622\n",
            "Epoch 3/20\n",
            "938/938 [==============================] - 29s 31ms/step - loss: 0.2396 - accuracy: 0.9106 - val_loss: 0.2705 - val_accuracy: 0.8866\n",
            "Epoch 4/20\n",
            "938/938 [==============================] - 26s 28ms/step - loss: 0.2127 - accuracy: 0.9221 - val_loss: 0.3035 - val_accuracy: 0.8934\n",
            "Epoch 5/20\n",
            "938/938 [==============================] - 26s 28ms/step - loss: 0.1861 - accuracy: 0.9328 - val_loss: 0.2526 - val_accuracy: 0.9056\n",
            "Epoch 6/20\n",
            "938/938 [==============================] - 29s 30ms/step - loss: 0.1689 - accuracy: 0.9405 - val_loss: 0.2716 - val_accuracy: 0.8870\n",
            "Epoch 7/20\n",
            "938/938 [==============================] - 26s 28ms/step - loss: 0.1490 - accuracy: 0.9483 - val_loss: 0.2520 - val_accuracy: 0.9069\n",
            "Epoch 8/20\n",
            "938/938 [==============================] - 28s 30ms/step - loss: 0.1326 - accuracy: 0.9544 - val_loss: 0.2587 - val_accuracy: 0.9012\n",
            "Epoch 9/20\n",
            "938/938 [==============================] - 26s 28ms/step - loss: 0.1161 - accuracy: 0.9608 - val_loss: 0.3590 - val_accuracy: 0.8961\n"
          ]
        },
        {
          "output_type": "display_data",
          "data": {
            "image/png": "[encoded data removed]",
            "text/plain": [
              "<Figure size 432x288 with 1 Axes>"
            ]
          },
          "metadata": {
            "needs_background": "light"
          }
        },
        {
          "output_type": "stream",
          "name": "stdout",
          "text": [
            "313/313 [==============================] - 3s 11ms/step - loss: 0.3383 - accuracy: 0.9032\n",
            "Test Accuracy = 0.90\n"
          ]
        }
      ]
    },
    {
      "cell_type": "markdown",
      "source": [
        "## Your turn!\n",
        "\n",
        "Implement a bidirectional RNN that can outperform the LSTM model we had above.\n",
        "\n",
        "A starting skeleton could be:\n",
        " \n",
        "*   Embedding layer with an output dimension of 64\n",
        "*   Bidirectional layer with a 32-neuron LSTM layer\n",
        "*   Dense layer with 1 neuron and a sigmoid activation\n",
        "\n",
        "Some suggestions:\n",
        "\n",
        "- Change the sizes of the layers (i.e., the numbers of neurons)\n",
        "- Add dropout\n",
        "- Add other recurrent and/or bidirectional layers\n",
        "\n",
        "Once you have a model that scores over 90% on the validation set, check its performance on the test set and upload it on the code checker in Moodle.\n",
        "\n",
        "Note that the model I'm suggesting above will be able to reach the desired performance, but it will show signs of overfitting. Can you do it by adding regularization (dropout, smaller network) so you don't overfit?\n"
      ],
      "metadata": {
        "id": "kzZhXm5gkz_g"
      }
    },
    {
      "cell_type": "code",
      "source": [
        "from keras.models import Sequential\n",
        "from keras.layers import LSTM\n",
        "from keras.layers import Dense\n",
        "from keras.layers import TimeDistributed\n",
        "from keras.layers import Bidirectional"
      ],
      "metadata": {
        "id": "1zaHBa8XWOzq"
      },
      "execution_count": 78,
      "outputs": []
    },
    {
      "cell_type": "code",
      "source": [
        "n_ = 5  # number of epochs. You can edit this\n",
        "\n",
        "model = models.Sequential()\n",
        "# YOUR CODE HERE!\n",
        "model.add(layers.Embedding(max_features, 64))\n",
        "model.add(layers.Bidirectional(LSTM(32, return_sequences=True)))\n",
        "model.add(layers.Dropout(0.3))\n",
        "model.add(layers.Bidirectional(LSTM(32, return_sequences=False)))\n",
        "#model.add(layers.LSTM(64, return_sequences=False))\n",
        "#model.add((Dense(1, activation='sigmoid')))\n",
        "model.add(layers.Dense(1, activation=\"sigmoid\"))\n",
        "# I DON'T RECOMMEND THAT YOU CHANGE CODE AFTER THIS POINT\n",
        "model.compile(optimizer=\"rmsprop\", loss=\"binary_crossentropy\", metrics=[\"accuracy\"])\n",
        "\n",
        "print(model.summary())\n",
        "\n",
        "# This model will take a long time to train, so we add an early stopping criterion\n",
        "# I've also added a ModelCheckpoint that will save the best model according to val_accuracy regardless of whether we continue training\n",
        "callbacks = [EarlyStopping(monitor='val_accuracy', patience=1),\n",
        "             ModelCheckpoint(\"model.keras\", save_best_only=True, monitor=\"val_accuracy\", mode='max')]\n",
        "\n",
        "history = model.fit(x_train, y_train, batch_size=batch_size, epochs=n_, \n",
        "                    validation_data=(x_val, y_val), \n",
        "                    callbacks=callbacks)\n",
        "plot_hist_classif(history)\n",
        "model = keras.models.load_model(\"model.keras\")\n",
        "print('Test Accuracy = %.2f' % model.evaluate(x_test, y_test)[1])"
      ],
      "metadata": {
        "id": "jCHOC7dyadaj",
        "colab": {
          "base_uri": "https://localhost:8080/",
          "height": 873
        },
        "outputId": "7913677a-27ec-423d-8c28-db8228e66a52"
      },
      "execution_count": 102,
      "outputs": [
        {
          "output_type": "stream",
          "name": "stdout",
          "text": [
            "Model: \"sequential_39\"\n",
            "_________________________________________________________________\n",
            " Layer (type)                Output Shape              Param #   \n",
            "=================================================================\n",
            " embedding_34 (Embedding)    (None, None, 64)          960000    \n",
            "                                                                 \n",
            " bidirectional_15 (Bidirecti  (None, None, 64)         24832     \n",
            " onal)                                                           \n",
            "                                                                 \n",
            " dropout_40 (Dropout)        (None, None, 64)          0         \n",
            "                                                                 \n",
            " bidirectional_16 (Bidirecti  (None, 64)               24832     \n",
            " onal)                                                           \n",
            "                                                                 \n",
            " dense_41 (Dense)            (None, 1)                 65        \n",
            "                                                                 \n",
            "=================================================================\n",
            "Total params: 1,009,729\n",
            "Trainable params: 1,009,729\n",
            "Non-trainable params: 0\n",
            "_________________________________________________________________\n",
            "None\n",
            "Epoch 1/5\n",
            "938/938 [==============================] - 119s 67ms/step - loss: 0.3684 - accuracy: 0.8374 - val_loss: 0.3148 - val_accuracy: 0.8776\n",
            "Epoch 2/5\n",
            "938/938 [==============================] - 61s 65ms/step - loss: 0.2477 - accuracy: 0.9027 - val_loss: 0.2727 - val_accuracy: 0.8920\n",
            "Epoch 3/5\n",
            "938/938 [==============================] - 61s 65ms/step - loss: 0.2041 - accuracy: 0.9229 - val_loss: 0.2637 - val_accuracy: 0.8941\n",
            "Epoch 4/5\n",
            "938/938 [==============================] - 61s 65ms/step - loss: 0.1763 - accuracy: 0.9343 - val_loss: 0.2511 - val_accuracy: 0.8997\n",
            "Epoch 5/5\n",
            "938/938 [==============================] - 61s 65ms/step - loss: 0.1568 - accuracy: 0.9433 - val_loss: 0.2748 - val_accuracy: 0.8921\n"
          ]
        },
        {
          "output_type": "display_data",
          "data": {
            "image/png": "[encoded data removed]",
            "text/plain": [
              "<Figure size 432x288 with 1 Axes>"
            ]
          },
          "metadata": {
            "needs_background": "light"
          }
        },
        {
          "output_type": "stream",
          "name": "stdout",
          "text": [
            "313/313 [==============================] - 11s 28ms/step - loss: 0.2539 - accuracy: 0.9008\n",
            "Test Accuracy = 0.90\n"
          ]
        }
      ]
    },
    {
      "cell_type": "code",
      "source": [
        "if model.count_params() > 1000000:\n",
        "    print(\"Due to memory constraints on Moodle, the lab quiz has a 10MB limit on your model size, so you need to use a smaller model to validate through the auto-marker.\")\n",
        "\n",
        "if history.history[\"val_accuracy\"][-1] > 0.85:\n",
        "    print(\"Your model is accurate enough!\")\n",
        "\n",
        "else:\n",
        "    print(\"Accuracy is below the threshold!\")\n",
        "    raise Exception(\"Your model isn't accurate enough to pass the progress checker!\")\n",
        "# Save the model into a local folder\n",
        "keras.models.save_model(model, \"Model.h5\",save_format='h5')\n",
        "print('Model saved! You can now upload it to the lab quiz.')"
      ],
      "metadata": {
        "id": "ZFBmg66_CR7y",
        "colab": {
          "base_uri": "https://localhost:8080/"
        },
        "outputId": "f028102e-6ad4-47b2-a9d1-2d1775397af3"
      },
      "execution_count": 106,
      "outputs": [
        {
          "output_type": "stream",
          "name": "stdout",
          "text": [
            "Due to memory constraints on Moodle, the lab quiz has a 10MB limit on your model size, so you need to use a smaller model to validate through the auto-marker.\n",
            "Your model is accurate enough!\n",
            "Model saved! You can now upload it to the lab quiz.\n"
          ]
        }
      ]
    },
    {
      "cell_type": "code",
      "source": [
        ""
      ],
      "metadata": {
        "id": "hv7PyBQQsXav"
      },
      "execution_count": null,
      "outputs": []
    }
  ],
  "metadata": {
    "kernelspec": {
      "display_name": "Python 3",
      "language": "python",
      "name": "python3"
    },
    "language_info": {
      "codemirror_mode": {
        "name": "ipython",
        "version": 3
      },
      "file_extension": ".py",
      "mimetype": "text/x-python",
      "name": "python",
      "nbconvert_exporter": "python",
      "pygments_lexer": "ipython3",
      "version": "3.7.10"
    },
    "colab": {
      "name": "Copy of rnn.ipynb",
      "provenance": [],
      "collapsed_sections": [
        "WlhjIvZR_a0Q",
        "rloJamyvWPWj",
        "7c-duA1Z_a0R",
        "3ozUAZX__a0R"
      ],
      "include_colab_link": true
    },
    "accelerator": "GPU"
  },
  "nbformat": 4,
  "nbformat_minor": 0
}